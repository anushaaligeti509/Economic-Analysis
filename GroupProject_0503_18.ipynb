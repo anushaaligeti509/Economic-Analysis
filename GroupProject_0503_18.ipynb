{
  "cells": [
    {
      "cell_type": "code",
      "execution_count": 75,
      "metadata": {
        "colab": {
          "base_uri": "https://localhost:8080/"
        },
        "id": "bG6ZLbQT7MNj",
        "outputId": "2b1e8156-80a0-462e-b5f8-5b852ec4bb36"
      },
      "outputs": [
        {
          "output_type": "stream",
          "name": "stdout",
          "text": [
            "Requirement already satisfied: pyspark in /usr/local/lib/python3.10/dist-packages (3.5.1)\n",
            "Requirement already satisfied: py4j==0.10.9.7 in /usr/local/lib/python3.10/dist-packages (from pyspark) (0.10.9.7)\n"
          ]
        }
      ],
      "source": [
        "!pip install pyspark"
      ]
    },
    {
      "cell_type": "code",
      "execution_count": 131,
      "metadata": {
        "id": "flTEiUUQ8nL7"
      },
      "outputs": [],
      "source": [
        "from pyspark.sql.session import SparkSession\n",
        "session=SparkSession.builder.appName(\"Weekly_Wagescsv\").master(\"local[2]\").getOrCreate()"
      ]
    },
    {
      "cell_type": "code",
      "execution_count": 77,
      "metadata": {
        "id": "yCez2Mzl9A-H"
      },
      "outputs": [],
      "source": [
        "wages_data=session.read.csv(\"Weekly_Wages.csv\", header=True, inferSchema=True)"
      ]
    },
    {
      "cell_type": "code",
      "execution_count": 78,
      "metadata": {
        "colab": {
          "base_uri": "https://localhost:8080/"
        },
        "id": "C7OIy6OZ9GXH",
        "outputId": "19896b5f-9354-4e66-a9fa-24727da8021f"
      },
      "outputs": [
        {
          "output_type": "stream",
          "name": "stdout",
          "text": [
            "+---------+--------------+----+-------+------------------+-----------+----------+--------------------+--------------+--------------------------+-------------+-------------+-------------+-------------------------+--------------------+\n",
            "|Area Type|     Area Name|Year|Quarter|         Ownership|NAICS Level|NAICS Code|       Industry Name|Establishments|Average Monthly Employment|1st Month Emp|2nd Month Emp|3rd Month Emp|Total Wages (All Workers)|Average Weekly Wages|\n",
            "+---------+--------------+----+-------+------------------+-----------+----------+--------------------+--------------+--------------------------+-------------+-------------+-------------+-------------------------+--------------------+\n",
            "|   County|Alameda County|2016|1st Qtr|Federal Government|          2|      1023|Financial Activities|             1|                        10|           10|           10|           10|                 359690.0|              2767.0|\n",
            "|   County|Alameda County|2016|1st Qtr|Federal Government|          2|      1028|Public Administra...|            72|                      5174|         5193|         5143|         5188|              1.3606897E8|              2023.0|\n",
            "+---------+--------------+----+-------+------------------+-----------+----------+--------------------+--------------+--------------------------+-------------+-------------+-------------+-------------------------+--------------------+\n",
            "only showing top 2 rows\n",
            "\n",
            "+--------------+----+-------+\n",
            "|     Area Name|Year|Quarter|\n",
            "+--------------+----+-------+\n",
            "|Alameda County|2016|1st Qtr|\n",
            "|Alameda County|2016|1st Qtr|\n",
            "|Alameda County|2016|1st Qtr|\n",
            "|Alameda County|2016|1st Qtr|\n",
            "|Alameda County|2016|1st Qtr|\n",
            "+--------------+----+-------+\n",
            "only showing top 5 rows\n",
            "\n"
          ]
        }
      ],
      "source": [
        "wages_data.show(2)\n",
        "\n",
        "#View the selected columns of some rows\n",
        "wages_data.select(\"Area Name\", \"Year\", \"Quarter\").show(5)"
      ]
    },
    {
      "cell_type": "code",
      "execution_count": 79,
      "metadata": {
        "colab": {
          "base_uri": "https://localhost:8080/"
        },
        "id": "YFzB_CPY9dor",
        "outputId": "e207fc9d-bcbe-4dff-ffd4-d8e2bffa03ff"
      },
      "outputs": [
        {
          "output_type": "stream",
          "name": "stdout",
          "text": [
            "+--------------------------+----------------+\n",
            "|Average Monthly Employment| Employment_Size|\n",
            "+--------------------------+----------------+\n",
            "|                        10|Small Employment|\n",
            "|                      5174|Large Employment|\n",
            "|                        29|Small Employment|\n",
            "|                        52|Small Employment|\n",
            "|                        52|Small Employment|\n",
            "+--------------------------+----------------+\n",
            "only showing top 5 rows\n",
            "\n",
            "+--------------------+-----------------+\n",
            "|Average Weekly Wages|      Wages_Level|\n",
            "+--------------------+-----------------+\n",
            "|              2767.0|High Weekly Wages|\n",
            "|              2023.0|High Weekly Wages|\n",
            "|               560.0| Low Weekly Wages|\n",
            "|              1107.0| Low Weekly Wages|\n",
            "|              1107.0| Low Weekly Wages|\n",
            "+--------------------+-----------------+\n",
            "only showing top 5 rows\n",
            "\n"
          ]
        }
      ],
      "source": [
        "from pyspark.sql.functions import udf\n",
        "from pyspark.sql.types import *\n",
        "\n",
        "# Defining functions\n",
        "def new_column1_func(average_monthly_employment):\n",
        "    if average_monthly_employment > 100:\n",
        "        return 'Large Employment'\n",
        "    else:\n",
        "        return 'Small Employment'\n",
        "\n",
        "def new_column2_func(average_weekly_wages):\n",
        "    if average_weekly_wages > 2000:\n",
        "        return 'High Weekly Wages'\n",
        "    else:\n",
        "        return 'Low Weekly Wages'\n",
        "\n",
        "# Create user-defined functions\n",
        "new_column1_udf = udf(new_column1_func, StringType())\n",
        "new_column2_udf = udf(new_column2_func, StringType())\n",
        "\n",
        "# Add new columns based on user-defined functions\n",
        "wages_data = wages_data.withColumn('Employment_Size', new_column1_udf(wages_data['Average Monthly Employment']))\n",
        "wages_data = wages_data.withColumn('Wages_Level', new_column2_udf(wages_data['Average Weekly Wages']))\n",
        "# Display the results\n",
        "wages_data.select(\"Average Monthly Employment\", \"Employment_Size\").show(5)\n",
        "wages_data.select(\"Average Weekly Wages\", \"Wages_Level\").show(5)"
      ]
    },
    {
      "cell_type": "code",
      "execution_count": 80,
      "metadata": {
        "colab": {
          "base_uri": "https://localhost:8080/"
        },
        "id": "eW-TTbIlDN0e",
        "outputId": "170664ba-40f9-4e9a-cb57-1168445ec8a0"
      },
      "outputs": [
        {
          "output_type": "stream",
          "name": "stdout",
          "text": [
            "+--------------------+\n",
            "|       Industry Name|\n",
            "+--------------------+\n",
            "|Masonry Material ...|\n",
            "|Building Material...|\n",
            "| Janitorial Services|\n",
            "|Food Services and...|\n",
            "|  Poultry Hatcheries|\n",
            "|Stone Mining and ...|\n",
            "|Printing machiner...|\n",
            "|Offices of Physic...|\n",
            "|Offices of Physic...|\n",
            "|Homes for the Eld...|\n",
            "|All Other Animal ...|\n",
            "|Fasteners, Button...|\n",
            "|Research and Dvlp...|\n",
            "|Other Converted P...|\n",
            "|Material Handling...|\n",
            "|Other Industrial ...|\n",
            "|Funeral Homes and...|\n",
            "|     Finfish Fishing|\n",
            "|Soap and Other De...|\n",
            "|Mineral Wool Manu...|\n",
            "+--------------------+\n",
            "only showing top 20 rows\n",
            "\n"
          ]
        },
        {
          "output_type": "execute_result",
          "data": {
            "text/plain": [
              "1586"
            ]
          },
          "metadata": {},
          "execution_count": 80
        }
      ],
      "source": [
        "unique_values = wages_data.select('Industry Name').distinct()\n",
        "\n",
        "# Show the unique values\n",
        "unique_values.show()\n",
        "unique_values.count()"
      ]
    },
    {
      "cell_type": "code",
      "execution_count": 81,
      "metadata": {
        "colab": {
          "base_uri": "https://localhost:8080/"
        },
        "id": "_2uD0w71FEbY",
        "outputId": "68dd5b16-43ef-4510-9b2b-a75031a23f2b"
      },
      "outputs": [
        {
          "output_type": "stream",
          "name": "stdout",
          "text": [
            "+------------------+\n",
            "|         Ownership|\n",
            "+------------------+\n",
            "|Federal Government|\n",
            "|  Total Government|\n",
            "|  State Government|\n",
            "|           Private|\n",
            "|     Total Covered|\n",
            "|Total U.I. Covered|\n",
            "|  Local Government|\n",
            "+------------------+\n",
            "\n"
          ]
        },
        {
          "output_type": "execute_result",
          "data": {
            "text/plain": [
              "7"
            ]
          },
          "metadata": {},
          "execution_count": 81
        }
      ],
      "source": [
        "unique_values = wages_data.select('Ownership').distinct()\n",
        "\n",
        "# Show the unique values\n",
        "unique_values.show()\n",
        "unique_values.count()"
      ]
    },
    {
      "cell_type": "code",
      "execution_count": 82,
      "metadata": {
        "colab": {
          "base_uri": "https://localhost:8080/"
        },
        "id": "2VD8jhOPCbFs",
        "outputId": "a6a55463-7e54-48ef-cebb-45d24fb57ad6"
      },
      "outputs": [
        {
          "output_type": "stream",
          "name": "stdout",
          "text": [
            "+---------+--------------+----+-------+------------------+-----------+----------+--------------------+--------------+--------------------------+-------------+-------------+-------------+-------------------------+--------------------+----------------+-----------------+------------------+\n",
            "|Area Type|     Area Name|Year|Quarter|         Ownership|NAICS Level|NAICS Code|       Industry Name|Establishments|Average Monthly Employment|1st Month Emp|2nd Month Emp|3rd Month Emp|Total Wages (All Workers)|Average Weekly Wages| Employment_Size|      Wages_Level|Ownership_Category|\n",
            "+---------+--------------+----+-------+------------------+-----------+----------+--------------------+--------------+--------------------------+-------------+-------------+-------------+-------------------------+--------------------+----------------+-----------------+------------------+\n",
            "|   County|Alameda County|2016|1st Qtr|Federal Government|          2|      1023|Financial Activities|             1|                        10|           10|           10|           10|                 359690.0|              2767.0|Small Employment|High Weekly Wages|        Government|\n",
            "|   County|Alameda County|2016|1st Qtr|Federal Government|          2|      1028|Public Administra...|            72|                      5174|         5193|         5143|         5188|              1.3606897E8|              2023.0|Large Employment|High Weekly Wages|        Government|\n",
            "|   County|Alameda County|2016|1st Qtr|           Private|          5|     11121|Vegetable and Mel...|             7|                        29|           31|           27|           29|                 210934.0|               560.0|Small Employment| Low Weekly Wages|           Private|\n",
            "|   County|Alameda County|2016|1st Qtr|           Private|          4|      1114|Greenhouse and Nu...|             7|                        52|           61|           64|           31|                 748616.0|              1107.0|Small Employment| Low Weekly Wages|           Private|\n",
            "|   County|Alameda County|2016|1st Qtr|           Private|          5|     11142|Nursery and Flori...|             7|                        52|           61|           64|           31|                 748616.0|              1107.0|Small Employment| Low Weekly Wages|           Private|\n",
            "|   County|Alameda County|2016|1st Qtr|           Private|          5|     11511|Support Activitie...|             9|                       110|          127|          110|           95|                 919397.0|               639.0|Large Employment| Low Weekly Wages|           Private|\n",
            "|   County|Alameda County|2016|1st Qtr|           Private|          6|    236115|New Single-Family...|           347|                      1792|         1804|         1810|         1762|              3.0994605E7|              1330.0|Large Employment| Low Weekly Wages|           Private|\n",
            "|   County|Alameda County|2016|1st Qtr|           Private|          6|    236118|Residential Remod...|           446|                      2380|         2383|         2406|         2351|              3.0104285E7|               973.0|Large Employment| Low Weekly Wages|           Private|\n",
            "|   County|Alameda County|2016|1st Qtr|           Private|          4|      2362|Nonresidential Bu...|           164|                      3006|         2991|         2977|         3050|              6.1663104E7|              1578.0|Large Employment| Low Weekly Wages|           Private|\n",
            "|   County|Alameda County|2016|1st Qtr|           Private|          6|    236220|Commercial Buildi...|           153|                      2662|         2628|         2637|         2722|              5.6552538E7|              1634.0|Large Employment| Low Weekly Wages|           Private|\n",
            "|   County|Alameda County|2016|1st Qtr|           Private|          4|      2379|Other Heavy Const...|            15|                       538|          511|          539|          566|               1.272148E7|              1817.0|Large Employment| Low Weekly Wages|           Private|\n",
            "|   County|Alameda County|2016|1st Qtr|           Private|          5|     23799|Other Heavy Const...|            15|                       538|          511|          539|          566|               1.272148E7|              1817.0|Large Employment| Low Weekly Wages|           Private|\n",
            "|   County|Alameda County|2016|1st Qtr|           Private|          3|       238|Specialty Trade C...|          1531|                     28983|        28601|        29120|        29230|             5.29217941E8|              1405.0|Large Employment| Low Weekly Wages|           Private|\n",
            "|   County|Alameda County|2016|1st Qtr|           Private|          5|     23811|Poured Concrete S...|            33|                      1151|         1105|         1122|         1228|              1.8415855E7|              1230.0|Large Employment| Low Weekly Wages|           Private|\n",
            "|   County|Alameda County|2016|1st Qtr|  State Government|          4|      6116|Other Schools and...|             3|                         9|            9|           10|           10|                 107857.0|               858.0|Small Employment| Low Weekly Wages|        Government|\n",
            "|   County|Alameda County|2016|1st Qtr|  State Government|          5|     61169|All Other Schools...|             3|                         9|            9|           10|           10|                 107857.0|               858.0|Small Employment| Low Weekly Wages|        Government|\n",
            "|   County|Alameda County|2016|1st Qtr|           Private|          6|    313310|Textile and Fabri...|             3|                        18|           17|           18|           20|                 104557.0|               439.0|Small Employment| Low Weekly Wages|           Private|\n",
            "|   County|Alameda County|2016|1st Qtr|           Private|          3|       314|Textile Product M...|            21|                       285|          288|          293|          274|                2284513.0|               617.0|Large Employment| Low Weekly Wages|           Private|\n",
            "|   County|Alameda County|2016|1st Qtr|           Private|          4|      3141|Textile Furnishin...|             6|                        46|           49|           52|           39|                 212239.0|               350.0|Small Employment| Low Weekly Wages|           Private|\n",
            "|   County|Alameda County|2016|1st Qtr|           Private|          5|     31499|All Other Textile...|             7|                       121|          122|          122|          119|                 989762.0|               629.0|Large Employment| Low Weekly Wages|           Private|\n",
            "+---------+--------------+----+-------+------------------+-----------+----------+--------------------+--------------+--------------------------+-------------+-------------+-------------+-------------------------+--------------------+----------------+-----------------+------------------+\n",
            "only showing top 20 rows\n",
            "\n"
          ]
        }
      ],
      "source": [
        "from pyspark.sql.functions import udf\n",
        "from pyspark.sql.types import StringType\n",
        "\n",
        "def categorize_ownership(ownership):\n",
        "    if ownership in ['Federal Government', 'State Government', 'Local Government']:\n",
        "        return 'Government'\n",
        "    elif ownership in ['Total Government', 'Total Covered', 'Total U.I. Covered']:\n",
        "        return 'Total'\n",
        "    else:\n",
        "        return 'Private'\n",
        "\n",
        "categorize_ownership_udf = udf(categorize_ownership, StringType())\n",
        "\n",
        "wages_data = wages_data.withColumn('Ownership_Category', categorize_ownership_udf(wages_data['Ownership']))\n",
        "\n",
        "wages_data.show()"
      ]
    },
    {
      "cell_type": "code",
      "execution_count": 83,
      "metadata": {
        "colab": {
          "base_uri": "https://localhost:8080/"
        },
        "id": "5uBwpSrkF7pu",
        "outputId": "6e6ca2d4-8f38-4f1e-ad55-fdd47549b716"
      },
      "outputs": [
        {
          "output_type": "stream",
          "name": "stdout",
          "text": [
            "+------------------+----------------------+\n",
            "|Ownership_Category|Avg_Monthly_Employment|\n",
            "+------------------+----------------------+\n",
            "|             Total|     5478800.702380952|\n",
            "|        Government|    23281.818662617756|\n",
            "|           Private|    29224.690498696375|\n",
            "+------------------+----------------------+\n",
            "\n"
          ]
        }
      ],
      "source": [
        "from pyspark.sql.functions import avg\n",
        "\n",
        "grouped_by_ownership_category = wages_data.groupBy('Ownership_Category').agg(avg('Average Monthly Employment').alias('Avg_Monthly_Employment'))\n",
        "grouped_by_ownership_category.show()"
      ]
    },
    {
      "cell_type": "code",
      "execution_count": 84,
      "metadata": {
        "colab": {
          "base_uri": "https://localhost:8080/"
        },
        "id": "6rlWlho-GrqS",
        "outputId": "e0b756fd-14fa-4061-b189-233993e56190"
      },
      "outputs": [
        {
          "output_type": "stream",
          "name": "stdout",
          "text": [
            "+--------------------+--------------------+----+\n",
            "|       Industry Name|Average Weekly Wages|Rank|\n",
            "+--------------------+--------------------+----+\n",
            "|AC, Refrigeration...|              2953.0|   1|\n",
            "|AC, Refrigeration...|              2582.0|   2|\n",
            "|AC, Refrigeration...|              2527.0|   3|\n",
            "|AC, Refrigeration...|              2429.0|   4|\n",
            "|AC, Refrigeration...|              2367.0|   5|\n",
            "|AC, Refrigeration...|              2149.0|   6|\n",
            "|AC, Refrigeration...|              2135.0|   7|\n",
            "|AC, Refrigeration...|              1834.0|   8|\n",
            "|AC, Refrigeration...|              1748.0|   9|\n",
            "|AC, Refrigeration...|              1698.0|  10|\n",
            "|AC, Refrigeration...|              1649.0|  11|\n",
            "|AC, Refrigeration...|              1638.0|  12|\n",
            "|AC, Refrigeration...|              1595.0|  13|\n",
            "|AC, Refrigeration...|              1586.0|  14|\n",
            "|AC, Refrigeration...|              1581.0|  15|\n",
            "|AC, Refrigeration...|              1466.0|  16|\n",
            "|AC, Refrigeration...|              1465.0|  17|\n",
            "|AC, Refrigeration...|              1409.0|  18|\n",
            "|AC, Refrigeration...|              1400.0|  19|\n",
            "|AC, Refrigeration...|              1398.0|  20|\n",
            "+--------------------+--------------------+----+\n",
            "only showing top 20 rows\n",
            "\n"
          ]
        }
      ],
      "source": [
        "from pyspark.sql.window import Window\n",
        "from pyspark.sql.functions import rank\n",
        "\n",
        "windowSpec = Window.partitionBy('Industry Name').orderBy(wages_data['Average Weekly Wages'].desc())\n",
        "\n",
        "ranked_industries = wages_data.withColumn(\"Rank\", rank().over(windowSpec))\n",
        "ranked_industries.select(\"Industry Name\", \"Average Weekly Wages\", \"Rank\").show()"
      ]
    },
    {
      "cell_type": "code",
      "source": [
        "from pyspark.sql.functions import col, avg\n",
        "\n",
        "avg_wages_by_industry = wages_data.groupBy('Industry Name').agg(avg('Average Weekly Wages').alias('Avg Weekly Wages'))\n",
        "\n",
        "from pyspark.sql.window import Window\n",
        "from pyspark.sql import functions as F\n",
        "\n",
        "windowSpec = Window.orderBy(col('Avg Weekly Wages').desc())\n",
        "ranked_industries = avg_wages_by_industry.withColumn('Rank', F.rank().over(windowSpec))\n",
        "\n",
        "ranked_industries.show()\n"
      ],
      "metadata": {
        "colab": {
          "base_uri": "https://localhost:8080/"
        },
        "id": "5ojkN1g4bgMJ",
        "outputId": "34d917e7-aeaf-4862-a576-17d02bc854a6"
      },
      "execution_count": 85,
      "outputs": [
        {
          "output_type": "stream",
          "name": "stdout",
          "text": [
            "+--------------------+------------------+----+\n",
            "|       Industry Name|  Avg Weekly Wages|Rank|\n",
            "+--------------------+------------------+----+\n",
            "|Sports Teams and ...| 4434.078048780488|   1|\n",
            "|Investment Bankin...| 4402.047358834244|   2|\n",
            "|All Other Informa...|      3993.6171875|   3|\n",
            "|Electronic Comput...|3972.7445255474454|   4|\n",
            "| Credit Card Issuing|3689.9411764705883|   5|\n",
            "|Offices of Bank H...|3580.0689655172414|   6|\n",
            "|Miscellaneous Int...|3518.3846153846152|   7|\n",
            "|Security & Commod...|  3378.71452991453|   8|\n",
            "|Open-End Investme...|3337.6393442622953|   9|\n",
            "|Securities Brokerage| 3183.328025477707|  10|\n",
            "|Motion Picture an...|3147.4903846153848|  11|\n",
            "|Semiconductor and...|3088.1058020477817|  12|\n",
            "|Computers and Per...|3025.7341269841268|  13|\n",
            "|Semiconductor Mac...| 2928.507042253521|  14|\n",
            "|Crude Petroleum E...| 2894.705882352941|  15|\n",
            "|Research and Deve...| 2881.153153153153|  16|\n",
            "|Portfolio Management| 2870.237359550562|  17|\n",
            "|Transportation Eq...|2847.1521739130435|  18|\n",
            "|Securities and Co...| 2826.986301369863|  19|\n",
            "|Securities and Co...| 2826.986301369863|  19|\n",
            "+--------------------+------------------+----+\n",
            "only showing top 20 rows\n",
            "\n"
          ]
        }
      ]
    },
    {
      "cell_type": "code",
      "execution_count": 86,
      "metadata": {
        "id": "reoA2BWnHjqV"
      },
      "outputs": [],
      "source": [
        "#Installing the necessary libraries\n",
        "!apt-get install openjdk-11-jdk-headless -qq > /dev/null\n",
        "!wget -q https://bitbucket.org/habedi/datasets/raw/b6769c4664e7ff68b001e2f43bc517888cbe3642/spark/spark-3.0.2-bin-hadoop2.7.tgz\n",
        "!tar xf spark-3.0.2-bin-hadoop2.7.tgz\n",
        "!rm -rf spark-3.0.2-bin-hadoop2.7.tgz*\n",
        "!pip -q install findspark pyspark graphframes"
      ]
    },
    {
      "cell_type": "code",
      "execution_count": 87,
      "metadata": {
        "id": "tLrtL50sIbR3"
      },
      "outputs": [],
      "source": [
        "import os\n",
        "os.environ[\"PYSPARK_DRIVER_PYTHON\"] = \"jupyter\"\n",
        "os.environ[\"PYSPARK_DRIVER_PYTHON_OPTS\"] = \"notebook\"\n",
        "os.environ[\"PYSPARK_SUBMIT_ARGS\"] = \"--packages graphframes:graphframes:0.8.1-spark3.0-s_2.12 pyspark-shell\""
      ]
    },
    {
      "cell_type": "code",
      "execution_count": 88,
      "metadata": {
        "id": "S6LJOm7OIfjf"
      },
      "outputs": [],
      "source": [
        "from graphframes import *\n",
        "from pyspark import *\n",
        "from pyspark.sql import *\n",
        "spark = SparkSession.builder.appName('myfunction').getOrCreate()"
      ]
    },
    {
      "cell_type": "code",
      "execution_count": 89,
      "metadata": {
        "colab": {
          "base_uri": "https://localhost:8080/"
        },
        "id": "TJAFqb1xI6ma",
        "outputId": "303181cd-8883-4dd1-8ed8-b1aac4b1c659"
      },
      "outputs": [
        {
          "output_type": "stream",
          "name": "stdout",
          "text": [
            "Number of observations: 1009955\n",
            "Information of columns:\n",
            " ['Area Type', 'Area Name', 'Year', 'Quarter', 'Ownership', 'NAICS Level', 'NAICS Code', 'Industry Name', 'Establishments', 'Average Monthly Employment', '1st Month Emp', '2nd Month Emp', '3rd Month Emp', 'Total Wages (All Workers)', 'Average Weekly Wages', 'Employment_Size', 'Wages_Level', 'Ownership_Category']\n",
            "+-------+--------------------+--------------+-----------------+-------+------------------+-----------------+------------------+--------------------+-----------------+--------------------------+------------------+------------------+------------------+-------------------------+--------------------+----------------+-----------------+------------------+\n",
            "|summary|           Area Type|     Area Name|             Year|Quarter|         Ownership|      NAICS Level|        NAICS Code|       Industry Name|   Establishments|Average Monthly Employment|     1st Month Emp|     2nd Month Emp|     3rd Month Emp|Total Wages (All Workers)|Average Weekly Wages| Employment_Size|      Wages_Level|Ownership_Category|\n",
            "+-------+--------------------+--------------+-----------------+-------+------------------+-----------------+------------------+--------------------+-----------------+--------------------------+------------------+------------------+------------------+-------------------------+--------------------+----------------+-----------------+------------------+\n",
            "|  count|             1009955|       1009955|          1009955|1009955|           1009955|          1009955|           1009955|             1009955|          1009955|                   1009955|           1009955|           1009955|           1009955|                  1009955|             1009955|         1009955|          1009955|           1009955|\n",
            "|   mean|                NULL|          NULL|2017.506116609156|   NULL|              NULL|4.742008307300821|194837.12261787403|                NULL|2482.561124010476|        34980.971719532055|27847.641598883118|28010.894197266214| 28092.93235738226|      8.136866494416167E8|  1092.7611398527656|            NULL|             NULL|              NULL|\n",
            "| stddev|                NULL|          NULL| 1.11945204530358|   NULL|              NULL|1.273100308956797|257904.14020519573|                NULL|89179.05824854095|        1212334.7563310235| 1079613.933764996|1085456.7834315621|1088327.9906065052|     3.404080674148222E10|     733.61310168821|            NULL|             NULL|              NULL|\n",
            "|    min|California - Stat...|Alameda County|             2016|1st Qtr|Federal Government|                0|                10|AC, Refrigeration...|                0|                         0|                 0|                 0|                 0|                      0.0|                 0.0|Large Employment|High Weekly Wages|        Government|\n",
            "|    max|       United States|   Yuba County|             2019| Annual|Total U.I. Covered|                6|            928120|Zoos and Botanica...|         10363818|                 149931099|         149527674|         150260321|         150005303|        8.769108878915E12|             29502.0|Small Employment| Low Weekly Wages|             Total|\n",
            "+-------+--------------------+--------------+-----------------+-------+------------------+-----------------+------------------+--------------------+-----------------+--------------------------+------------------+------------------+------------------+-------------------------+--------------------+----------------+-----------------+------------------+\n",
            "\n",
            "Description of columns:\n",
            " None\n",
            "+---------+--------------+----+-------+------------------+-----------+----------+--------------------+--------------+--------------------------+-------------+-------------+-------------+-------------------------+--------------------+----------------+-----------------+------------------+\n",
            "|Area Type|     Area Name|Year|Quarter|         Ownership|NAICS Level|NAICS Code|       Industry Name|Establishments|Average Monthly Employment|1st Month Emp|2nd Month Emp|3rd Month Emp|Total Wages (All Workers)|Average Weekly Wages| Employment_Size|      Wages_Level|Ownership_Category|\n",
            "+---------+--------------+----+-------+------------------+-----------+----------+--------------------+--------------+--------------------------+-------------+-------------+-------------+-------------------------+--------------------+----------------+-----------------+------------------+\n",
            "|   County|Alameda County|2016|1st Qtr|Federal Government|          2|      1023|Financial Activities|             1|                        10|           10|           10|           10|                 359690.0|              2767.0|Small Employment|High Weekly Wages|        Government|\n",
            "|   County|Alameda County|2016|1st Qtr|Federal Government|          2|      1028|Public Administra...|            72|                      5174|         5193|         5143|         5188|              1.3606897E8|              2023.0|Large Employment|High Weekly Wages|        Government|\n",
            "|   County|Alameda County|2016|1st Qtr|           Private|          5|     11121|Vegetable and Mel...|             7|                        29|           31|           27|           29|                 210934.0|               560.0|Small Employment| Low Weekly Wages|           Private|\n",
            "|   County|Alameda County|2016|1st Qtr|           Private|          4|      1114|Greenhouse and Nu...|             7|                        52|           61|           64|           31|                 748616.0|              1107.0|Small Employment| Low Weekly Wages|           Private|\n",
            "|   County|Alameda County|2016|1st Qtr|           Private|          5|     11142|Nursery and Flori...|             7|                        52|           61|           64|           31|                 748616.0|              1107.0|Small Employment| Low Weekly Wages|           Private|\n",
            "|   County|Alameda County|2016|1st Qtr|           Private|          5|     11511|Support Activitie...|             9|                       110|          127|          110|           95|                 919397.0|               639.0|Large Employment| Low Weekly Wages|           Private|\n",
            "|   County|Alameda County|2016|1st Qtr|           Private|          6|    236115|New Single-Family...|           347|                      1792|         1804|         1810|         1762|              3.0994605E7|              1330.0|Large Employment| Low Weekly Wages|           Private|\n",
            "|   County|Alameda County|2016|1st Qtr|           Private|          6|    236118|Residential Remod...|           446|                      2380|         2383|         2406|         2351|              3.0104285E7|               973.0|Large Employment| Low Weekly Wages|           Private|\n",
            "|   County|Alameda County|2016|1st Qtr|           Private|          4|      2362|Nonresidential Bu...|           164|                      3006|         2991|         2977|         3050|              6.1663104E7|              1578.0|Large Employment| Low Weekly Wages|           Private|\n",
            "|   County|Alameda County|2016|1st Qtr|           Private|          6|    236220|Commercial Buildi...|           153|                      2662|         2628|         2637|         2722|              5.6552538E7|              1634.0|Large Employment| Low Weekly Wages|           Private|\n",
            "|   County|Alameda County|2016|1st Qtr|           Private|          4|      2379|Other Heavy Const...|            15|                       538|          511|          539|          566|               1.272148E7|              1817.0|Large Employment| Low Weekly Wages|           Private|\n",
            "|   County|Alameda County|2016|1st Qtr|           Private|          5|     23799|Other Heavy Const...|            15|                       538|          511|          539|          566|               1.272148E7|              1817.0|Large Employment| Low Weekly Wages|           Private|\n",
            "|   County|Alameda County|2016|1st Qtr|           Private|          3|       238|Specialty Trade C...|          1531|                     28983|        28601|        29120|        29230|             5.29217941E8|              1405.0|Large Employment| Low Weekly Wages|           Private|\n",
            "|   County|Alameda County|2016|1st Qtr|           Private|          5|     23811|Poured Concrete S...|            33|                      1151|         1105|         1122|         1228|              1.8415855E7|              1230.0|Large Employment| Low Weekly Wages|           Private|\n",
            "|   County|Alameda County|2016|1st Qtr|  State Government|          4|      6116|Other Schools and...|             3|                         9|            9|           10|           10|                 107857.0|               858.0|Small Employment| Low Weekly Wages|        Government|\n",
            "|   County|Alameda County|2016|1st Qtr|  State Government|          5|     61169|All Other Schools...|             3|                         9|            9|           10|           10|                 107857.0|               858.0|Small Employment| Low Weekly Wages|        Government|\n",
            "|   County|Alameda County|2016|1st Qtr|           Private|          6|    313310|Textile and Fabri...|             3|                        18|           17|           18|           20|                 104557.0|               439.0|Small Employment| Low Weekly Wages|           Private|\n",
            "|   County|Alameda County|2016|1st Qtr|           Private|          3|       314|Textile Product M...|            21|                       285|          288|          293|          274|                2284513.0|               617.0|Large Employment| Low Weekly Wages|           Private|\n",
            "|   County|Alameda County|2016|1st Qtr|           Private|          4|      3141|Textile Furnishin...|             6|                        46|           49|           52|           39|                 212239.0|               350.0|Small Employment| Low Weekly Wages|           Private|\n",
            "|   County|Alameda County|2016|1st Qtr|           Private|          5|     31499|All Other Textile...|             7|                       121|          122|          122|          119|                 989762.0|               629.0|Large Employment| Low Weekly Wages|           Private|\n",
            "+---------+--------------+----+-------+------------------+-----------+----------+--------------------+--------------+--------------------------+-------------+-------------+-------------+-------------------------+--------------------+----------------+-----------------+------------------+\n",
            "only showing top 20 rows\n",
            "\n",
            "First few records:\n",
            " None\n"
          ]
        }
      ],
      "source": [
        "print(\"Number of observations:\",wages_data.count())\n",
        "print(\"Information of columns:\\n\",wages_data.columns)\n",
        "print(\"Description of columns:\\n\",wages_data.describe().show())\n",
        "print(\"First few records:\\n\", wages_data.show())"
      ]
    },
    {
      "cell_type": "code",
      "execution_count": 90,
      "metadata": {
        "colab": {
          "base_uri": "https://localhost:8080/"
        },
        "id": "-q2LSnbFKlmi",
        "outputId": "499d1421-b21d-4c31-f38a-333356004da8"
      },
      "outputs": [
        {
          "output_type": "stream",
          "name": "stdout",
          "text": [
            "+---------+---------+----+-------+---------+-----------+----------+-------------+--------------+--------------------------+-------------+-------------+-------------+-------------------------+--------------------+---------------+-----------+------------------+\n",
            "|Area Type|Area Name|Year|Quarter|Ownership|NAICS Level|NAICS Code|Industry Name|Establishments|Average Monthly Employment|1st Month Emp|2nd Month Emp|3rd Month Emp|Total Wages (All Workers)|Average Weekly Wages|Employment_Size|Wages_Level|Ownership_Category|\n",
            "+---------+---------+----+-------+---------+-----------+----------+-------------+--------------+--------------------------+-------------+-------------+-------------+-------------------------+--------------------+---------------+-----------+------------------+\n",
            "|        0|        0|   0|      0|        0|          0|         0|            0|             0|                         0|            0|            0|            0|                        0|                   0|              0|          0|                 0|\n",
            "+---------+---------+----+-------+---------+-----------+----------+-------------+--------------+--------------------------+-------------+-------------+-------------+-------------------------+--------------------+---------------+-----------+------------------+\n",
            "\n"
          ]
        }
      ],
      "source": [
        "from pyspark.sql.functions import col, sum as spark_sum\n",
        "missing_value_counts = wages_data.select([spark_sum(col(c).isNull().cast(\"int\")).alias(c) for c in wages_data.columns])\n",
        "missing_value_counts.show()"
      ]
    },
    {
      "cell_type": "code",
      "source": [
        "quarterly_avg_wages = wages_data.groupBy('Quarter').agg(avg('Average Weekly Wages'))\n",
        "quarterly_avg_wages.show()"
      ],
      "metadata": {
        "colab": {
          "base_uri": "https://localhost:8080/"
        },
        "id": "YGj0OAplFbja",
        "outputId": "d3ed3380-79dd-4b27-b3a8-21ed3a5b24f2"
      },
      "execution_count": 91,
      "outputs": [
        {
          "output_type": "stream",
          "name": "stdout",
          "text": [
            "+-------+-------------------------+\n",
            "|Quarter|avg(Average Weekly Wages)|\n",
            "+-------+-------------------------+\n",
            "| Annual|       1101.9537434101817|\n",
            "|3rd Qtr|       1069.7481810316008|\n",
            "|1st Qtr|       1082.5780526114984|\n",
            "|2nd Qtr|       1045.7130372274166|\n",
            "|4th Qtr|       1165.5008044301658|\n",
            "+-------+-------------------------+\n",
            "\n"
          ]
        }
      ]
    },
    {
      "cell_type": "markdown",
      "source": [
        "The analysis indicates that there are indeed particular quarters or times of the year when wages tend to be higher or lower. Specifically, the 4th quarter stands out as having the highest average weekly wages, with an average of   1165.50. Conversely, the 2nd quarter has the lowest average weekly wages, with an average of $1045.71. This suggests a seasonal pattern where wages peak towards the end of the year and dip in the middle of the year. Further exploration into the factors driving these seasonal variations could provide valuable insights for understanding wage dynamics and informing workforce management strategies."
      ],
      "metadata": {
        "id": "MjIbHsg8FiMv"
      }
    },
    {
      "cell_type": "code",
      "source": [
        "avg_wages_by_ownership = wages_data.groupBy('Ownership').agg(avg('Total Wages (All Workers)').alias('Avg_Total_Wages')).orderBy('Avg_Total_Wages', ascending=False)\n",
        "avg_wages_by_ownership.show()"
      ],
      "metadata": {
        "colab": {
          "base_uri": "https://localhost:8080/"
        },
        "id": "caDrp9Z6FeU3",
        "outputId": "90b0e81a-c822-46e4-d584-432895ab61fc"
      },
      "execution_count": 92,
      "outputs": [
        {
          "output_type": "stream",
          "name": "stdout",
          "text": [
            "+------------------+--------------------+\n",
            "|         Ownership|     Avg_Total_Wages|\n",
            "+------------------+--------------------+\n",
            "|Total U.I. Covered|  3.1796951938478E12|\n",
            "|  Total Government| 2.78459437065225E11|\n",
            "|     Total Covered|6.969340021270334E10|\n",
            "|  Local Government|  9.98528808236783E8|\n",
            "|  State Government| 7.296048602678796E8|\n",
            "|           Private| 6.811320314734694E8|\n",
            "|Federal Government| 1.933855053316736E8|\n",
            "+------------------+--------------------+\n",
            "\n"
          ]
        }
      ]
    },
    {
      "cell_type": "markdown",
      "source": [
        "The analysis reveals notable differences in wages between different types of ownership. Here's a breakdown of the average total wages across various ownership categories:\n",
        "\n",
        "Total U.I. Covered:   3.18 trillion\n",
        "\n",
        "Total Government:   278.46 billion\n",
        "\n",
        "Total Covered:   69.69 billion\n",
        "\n",
        "Local Government:   998.53 million\n",
        "\n",
        "State Government:   729.60 million\n",
        "\n",
        "Private:   681.13 million\n",
        "\n",
        "Federal Government:   193.39 million\n",
        "\n",
        "These figures indicate significant variations in average total wages across different ownership categories. Particularly, the private sector appears to have the highest average total wages, followed by various levels of government (local, state, and federal). Understanding these wage disparities can provide insights into the economic landscape, labor market dynamics, and the distribution of resources across different sectors of the economy. Further analysis may be necessary to explore the factors contributing to these differences and their implications for various stakeholders."
      ],
      "metadata": {
        "id": "t4NTzKHMFx4P"
      }
    },
    {
      "cell_type": "code",
      "source": [
        "ownership_analysis = wages_data.groupBy('Ownership') \\\n",
        "    .agg(avg('Total Wages (All Workers)').alias('Avg_Total_Wages'),\n",
        "         avg('Average Monthly Employment').alias('Avg_Monthly_Employment'),\n",
        "         avg('Establishments').alias('Avg_Establishments')) \\\n",
        "    .orderBy('Avg_Total_Wages', ascending=False)\n",
        "ownership_analysis.show()"
      ],
      "metadata": {
        "colab": {
          "base_uri": "https://localhost:8080/"
        },
        "id": "30TVg56nFs24",
        "outputId": "5325b5eb-d587-43f8-da7e-6082e486b1c4"
      },
      "execution_count": 93,
      "outputs": [
        {
          "output_type": "stream",
          "name": "stdout",
          "text": [
            "+------------------+--------------------+----------------------+------------------+\n",
            "|         Ownership|     Avg_Total_Wages|Avg_Monthly_Employment|Avg_Establishments|\n",
            "+------------------+--------------------+----------------------+------------------+\n",
            "|Total U.I. Covered|  3.1796951938478E12|         1.421851135E8|         9898939.2|\n",
            "|  Total Government| 2.78459437065225E11|        1.2004739675E7|        167752.825|\n",
            "|     Total Covered|6.969340021270334E10|    2982830.8566666665|216263.14916666667|\n",
            "|  Local Government|  9.98528808236783E8|     46922.46358171636| 553.2407220290798|\n",
            "|  State Government| 7.296048602678796E8|     29160.57466417276|502.87757184152355|\n",
            "|           Private| 6.811320314734694E8|    29224.690498696375| 2387.583379032336|\n",
            "|Federal Government| 1.933855053316736E8|     5901.843976233901|119.01531816808584|\n",
            "+------------------+--------------------+----------------------+------------------+\n",
            "\n"
          ]
        }
      ]
    },
    {
      "cell_type": "markdown",
      "source": [
        "Based on the provided results, there are noticeable differences in wage levels and employment stability based on ownership structure:\n",
        "\n",
        "**Wage Levels:**\n",
        "\n",
        "Total U.I. Covered has the highest average total wages, followed by Total Government and Total Covered.\n",
        "Private ownership also shows relatively high average total wages compared to Federal Government, State Government, and Local Government.\n",
        "\n",
        "**Employment Stability:**\n",
        "\n",
        "Total U.I. Covered has the highest average monthly employment, indicating potentially more stable employment within this ownership category.\n",
        "Private ownership also shows a relatively high average monthly employment level compared to Federal Government, State Government, and Local Government.\n",
        "Overall, ownership structure appears to influence both wage levels and employment stability, with certain categories such as Total U.I. Covered showing higher values in both metrics compared to others. Further analysis may be required to understand the underlying factors contributing to these differences."
      ],
      "metadata": {
        "id": "i2yK7QS6F5Qx"
      }
    },
    {
      "cell_type": "code",
      "source": [
        "avg_wages_by_area = wages_data.withColumn(\"Total Wages (All Workers)\", col(\"Total Wages (All Workers)\").cast(\"int\")) \\\n",
        "    .groupBy('Area Name') \\\n",
        "    .agg(avg('Total Wages (All Workers)').alias('Avg_Total_Wages')) \\\n",
        "    .orderBy('Avg_Total_Wages', ascending=False)\n",
        "avg_wages_by_area.show()\n"
      ],
      "metadata": {
        "colab": {
          "base_uri": "https://localhost:8080/"
        },
        "id": "agVFYiL5F6dl",
        "outputId": "9e451779-5a02-4c82-ea6d-205062109e4a"
      },
      "execution_count": 94,
      "outputs": [
        {
          "output_type": "stream",
          "name": "stdout",
          "text": [
            "+--------------------+--------------------+\n",
            "|           Area Name|     Avg_Total_Wages|\n",
            "+--------------------+--------------------+\n",
            "|       United States| 8.217235896315587E8|\n",
            "|          California| 3.908397139742851E8|\n",
            "|  Los Angeles County|2.0281936319469732E8|\n",
            "|  Santa Clara County|1.2868122679611683E8|\n",
            "|       Orange County|1.1358862038236283E8|\n",
            "|San Francisco County|1.1301399257965653E8|\n",
            "|    San Diego County|1.0500663556222329E8|\n",
            "|      Alameda County| 8.467441198300202E7|\n",
            "|    San Mateo County|  7.80729353725048E7|\n",
            "|   Sacramento County| 6.769789534985678E7|\n",
            "| Contra Costa County| 5.078930814271511E7|\n",
            "|San Bernardino Co...| 5.076921159470752E7|\n",
            "|    Riverside County|5.0388638517435685E7|\n",
            "|       Fresno County|3.7293356032769725E7|\n",
            "|      Ventura County| 3.719833190700353E7|\n",
            "|         Kern County| 3.613596541374294E7|\n",
            "|  San Joaquin County|2.9293886737683207E7|\n",
            "|       Placer County|2.7198878472865757E7|\n",
            "|     Monterey County|2.6696952242359083E7|\n",
            "|       Sonoma County|      2.6691071006E7|\n",
            "+--------------------+--------------------+\n",
            "only showing top 20 rows\n",
            "\n"
          ]
        }
      ]
    },
    {
      "cell_type": "markdown",
      "source": [
        "There are significant variations in wages between different regions or areas:\n",
        "\n",
        "**Highest Average Wages:**\n",
        "\n",
        "The United States has the highest average total wages, followed by California. Los Angeles County, Santa Clara County, and Orange County also have relatively high average total wages.\n",
        "\n",
        "**Variations Across Counties:**\n",
        "\n",
        "There are noticeable variations in average wages across different counties within California. For example, San Francisco County, San Diego County, and Alameda County have relatively high average total wages, while other counties like Fresno County and Kern County have lower average total wages.\n",
        "\n",
        "**Regional Disparities:**\n",
        "\n",
        "There are disparities in wages between regions, with some areas experiencing higher average wages compared to others. This indicates that wage levels may vary significantly depending on the geographical location or area. Overall, the analysis highlights significant variations in wages between different regions or areas, suggesting the presence of regional economic disparities. Further investigation may be required to understand the underlying factors contributing to these variations."
      ],
      "metadata": {
        "id": "Ptfo9dZIGGXs"
      }
    },
    {
      "cell_type": "code",
      "source": [
        "from pyspark.sql.functions import udf\n",
        "from pyspark.sql.types import *\n",
        "\n",
        "# Defining functions\n",
        "def new_column1_func(average_monthly_employment):\n",
        "    if average_monthly_employment > 100:\n",
        "        return 'Large Employment'\n",
        "    else:\n",
        "        return 'Small Employment'\n",
        "\n",
        "# Create user-defined functions\n",
        "new_column1_udf = udf(new_column1_func, StringType())\n",
        "\n",
        "\n",
        "# Add new columns based on user-defined functions\n",
        "wages_data = wages_data.withColumn('Employment_Size', new_column1_udf(wages_data['Average Monthly Employment']))\n",
        "\n",
        "# Display the results\n",
        "wages_data.select(\"Average Monthly Employment\", \"Employment_Size\").show(5)\n"
      ],
      "metadata": {
        "colab": {
          "base_uri": "https://localhost:8080/"
        },
        "id": "cSEp1_ilGXX2",
        "outputId": "32ae59aa-3279-4002-f031-e305f091c417"
      },
      "execution_count": 95,
      "outputs": [
        {
          "output_type": "stream",
          "name": "stdout",
          "text": [
            "+--------------------------+----------------+\n",
            "|Average Monthly Employment| Employment_Size|\n",
            "+--------------------------+----------------+\n",
            "|                        10|Small Employment|\n",
            "|                      5174|Large Employment|\n",
            "|                        29|Small Employment|\n",
            "|                        52|Small Employment|\n",
            "|                        52|Small Employment|\n",
            "+--------------------------+----------------+\n",
            "only showing top 5 rows\n",
            "\n"
          ]
        }
      ]
    },
    {
      "cell_type": "code",
      "source": [
        "def calculate_increase(first_month_emp, third_month_emp):\n",
        "    return third_month_emp - first_month_emp\n",
        "increase_udf = udf(calculate_increase, IntegerType())\n",
        "wages_data1 = wages_data.withColumn('Increase_in_Employment', increase_udf(col('1st Month Emp'), col('3rd Month Emp')))\n",
        "wages_data1.select('1st Month Emp', '3rd Month Emp', 'Increase_in_Employment').show(20)"
      ],
      "metadata": {
        "colab": {
          "base_uri": "https://localhost:8080/"
        },
        "id": "msFPO80SGwA3",
        "outputId": "cf8571fa-8bdc-40c8-aa93-3a5033bb8a88"
      },
      "execution_count": 96,
      "outputs": [
        {
          "output_type": "stream",
          "name": "stdout",
          "text": [
            "+-------------+-------------+----------------------+\n",
            "|1st Month Emp|3rd Month Emp|Increase_in_Employment|\n",
            "+-------------+-------------+----------------------+\n",
            "|           10|           10|                     0|\n",
            "|         5193|         5188|                    -5|\n",
            "|           31|           29|                    -2|\n",
            "|           61|           31|                   -30|\n",
            "|           61|           31|                   -30|\n",
            "|          127|           95|                   -32|\n",
            "|         1804|         1762|                   -42|\n",
            "|         2383|         2351|                   -32|\n",
            "|         2991|         3050|                    59|\n",
            "|         2628|         2722|                    94|\n",
            "|          511|          566|                    55|\n",
            "|          511|          566|                    55|\n",
            "|        28601|        29230|                   629|\n",
            "|         1105|         1228|                   123|\n",
            "|            9|           10|                     1|\n",
            "|            9|           10|                     1|\n",
            "|           17|           20|                     3|\n",
            "|          288|          274|                   -14|\n",
            "|           49|           39|                   -10|\n",
            "|          122|          119|                    -3|\n",
            "+-------------+-------------+----------------------+\n",
            "only showing top 20 rows\n",
            "\n"
          ]
        }
      ]
    },
    {
      "cell_type": "code",
      "source": [
        "from pyspark.sql.functions import col,avg\n",
        "avg_wages_by_area = wages_data.withColumn(\"Average Weekly Wages\", col(\"Average Weekly Wages\").cast(\"int\")).groupBy('Area Name')\\\n",
        "    .agg(avg('Average Weekly Wages').alias('Avg_Weekly_Wages'))\\\n",
        "    .orderBy('Avg_Weekly_Wages', ascending=False)\n",
        "avg_wages_by_area.show()"
      ],
      "metadata": {
        "colab": {
          "base_uri": "https://localhost:8080/"
        },
        "id": "NqN1m-1pxVYh",
        "outputId": "a6ae3790-7898-4abf-b2e1-ac4d55ac8d64"
      },
      "execution_count": 97,
      "outputs": [
        {
          "output_type": "stream",
          "name": "stdout",
          "text": [
            "+--------------------+------------------+\n",
            "|           Area Name|  Avg_Weekly_Wages|\n",
            "+--------------------+------------------+\n",
            "|San Francisco County|1740.8844191752016|\n",
            "|    San Mateo County|1588.3412260920404|\n",
            "|  Santa Clara County|1577.8184806180536|\n",
            "|      Alameda County|1376.0031371042608|\n",
            "| Contra Costa County|1333.8884792244914|\n",
            "|          California|1315.8080240506781|\n",
            "|        Marin County|1307.5298961096375|\n",
            "|  Los Angeles County|1296.4409154174368|\n",
            "|       Orange County| 1254.555935050392|\n",
            "|    San Diego County|1176.7267984546404|\n",
            "|       United States|1142.7879796997588|\n",
            "|   Sacramento County|1123.1061971634178|\n",
            "|         Napa County|1114.0804670242978|\n",
            "|      Ventura County|  1110.51505145139|\n",
            "|       Sonoma County|1092.0657872340425|\n",
            "|Santa Barbara County|1069.3831379068954|\n",
            "|       Placer County|1049.1591029302867|\n",
            "|         Yolo County| 1044.895502917954|\n",
            "|     Monterey County|1026.7200122868992|\n",
            "|   Santa Cruz County|1020.7950658654958|\n",
            "+--------------------+------------------+\n",
            "only showing top 20 rows\n",
            "\n"
          ]
        }
      ]
    },
    {
      "cell_type": "code",
      "source": [
        "import pandas as pd\n",
        "import matplotlib.pyplot as plt\n",
        "\n",
        "avg_wages_by_area_pd = avg_wages_by_area.toPandas()\n",
        "plt.figure(figsize=(10, 6))\n",
        "plt.bar(avg_wages_by_area_pd['Area Name'], avg_wages_by_area_pd['Avg_Weekly_Wages'], color='skyblue')\n",
        "plt.xlabel('Area Name')\n",
        "plt.ylabel('Average Total Wages')\n",
        "plt.title('Average Total Wages by Area')\n",
        "plt.xticks(rotation=90)\n",
        "plt.tight_layout()\n",
        "plt.show()"
      ],
      "metadata": {
        "colab": {
          "base_uri": "https://localhost:8080/",
          "height": 607
        },
        "id": "-qRtWzJBxWHK",
        "outputId": "e3032007-8638-41ec-f977-8cc8918e7b97"
      },
      "execution_count": 98,
      "outputs": [
        {
          "output_type": "display_data",
          "data": {
            "text/plain": [
              "<Figure size 1000x600 with 1 Axes>"
            ],
            "image/png": "[encoded data removed]"
          },
          "metadata": {}
        }
      ]
    },
    {
      "cell_type": "code",
      "source": [
        "wages_data = wages_data.withColumn(\"Average Weekly Wages\", col(\"Average Weekly Wages\").cast(\"int\"))\n",
        "avg_wages_by_industry = wages_data.groupBy('Industry Name') \\\n",
        "                                   .agg(avg('Average Weekly Wages').alias('Avg_Weekly_Wages')) \\\n",
        "                                   .orderBy('Avg_Weekly_Wages', ascending=False)\n",
        "\n",
        "avg_wages_by_industry.show(5)"
      ],
      "metadata": {
        "colab": {
          "base_uri": "https://localhost:8080/"
        },
        "id": "qjd5VfMtyfJa",
        "outputId": "a90f2fa0-75c0-4053-fabf-ddf940d86a66"
      },
      "execution_count": 99,
      "outputs": [
        {
          "output_type": "stream",
          "name": "stdout",
          "text": [
            "+--------------------+------------------+\n",
            "|       Industry Name|  Avg_Weekly_Wages|\n",
            "+--------------------+------------------+\n",
            "|Sports Teams and ...| 4434.078048780488|\n",
            "|Investment Bankin...| 4402.047358834244|\n",
            "|All Other Informa...|      3993.6171875|\n",
            "|Electronic Comput...|3972.7445255474454|\n",
            "| Credit Card Issuing|3689.9411764705883|\n",
            "+--------------------+------------------+\n",
            "only showing top 5 rows\n",
            "\n"
          ]
        }
      ]
    },
    {
      "cell_type": "code",
      "source": [
        "# Calculate the count for each category\n",
        "category_counts = wages_data.groupBy(\"Industry Name\").count()\n",
        "\n",
        "# Calculate the total count of the dataset\n",
        "total_count = wages_data.count()\n",
        "\n",
        "# Calculate the desired sample size per category (1% of total)\n",
        "sample_size = int(0.000001 * total_count)\n",
        "\n",
        "# Define a fraction for each category to maintain the proportional representation\n",
        "fractions = {row[\"Industry Name\"]: min(1.0, sample_size / row[\"count\"]) for row in category_counts.collect()}\n",
        "\n",
        "# Use stratified sampling to create the subset\n",
        "subset = wages_data.sampleBy(\"Industry Name\", fractions, seed=1000)\n",
        "\n",
        "# Show the resulting subset\n",
        "subset.count()\n"
      ],
      "metadata": {
        "colab": {
          "base_uri": "https://localhost:8080/"
        },
        "id": "BKP5giLkxmza",
        "outputId": "372b97d6-cab1-473d-d3bf-12a4d2250ac0"
      },
      "execution_count": 100,
      "outputs": [
        {
          "output_type": "execute_result",
          "data": {
            "text/plain": [
              "1534"
            ]
          },
          "metadata": {},
          "execution_count": 100
        }
      ]
    },
    {
      "cell_type": "code",
      "source": [
        "from pyspark.ml.feature import StringIndexer, OneHotEncoder\n",
        "from pyspark.ml import Pipeline\n",
        "\n",
        "#String indexing for categorical columns\n",
        "from pyspark.ml.feature import StringIndexer\n",
        "str_obj=StringIndexer(inputCols=[\"Area Type\",\"Area Name\",\"Year\",\"Quarter\", \"Industry Name\", \"NAICS Level\",\"NAICS Code\",\"Ownership\", \"Employment_Size\"],\n",
        "                      outputCols=[\"newArea Type\",\"newArea Name\",\"newYear\",\"newQuarter\", \"newIndustry Name\", \"newNAICS Level\", \"newNAICS Code\", \"newOwnership\", \"newEmployment_Size\"])\n",
        "#One hot encoding\n",
        "from pyspark.ml.feature import OneHotEncoder\n",
        "onehot_obj=OneHotEncoder(inputCols=[\"newArea Type\",\"newArea Name\",\"newYear\",\"newQuarter\", \"newIndustry Name\",\"newNAICS Level\", \"newNAICS Code\", \"newOwnership\",\"newEmployment_Size\"],\n",
        "                         outputCols=[\"newArea Type2\",\"newArea Name2\",\"newYear2\",\"newQuarter2\", \"newIndustry Name2\", \"newNAICS Level2\", \"newNAICS Code2\", \"newOwnership2\",\"newEmployment_Size2\"])\n",
        "#Vector Assembler\n",
        "from pyspark.ml.feature import VectorAssembler\n",
        "vec_obj=VectorAssembler(inputCols=[\"newArea Type2\",\"newArea Name2\",\"newYear2\",\"newQuarter2\", \"newIndustry Name2\", \"newNAICS Level2\", \"newNAICS Code2\", \"newOwnership2\",\"newEmployment_Size2\",\n",
        "                                   \"Total Wages (All Workers)\",\"Average Monthly Employment\",\"Establishments\"],outputCol=\"all_features\")\n",
        "\n",
        "#Splitting the dataset\n",
        "training, test=wages_data.randomSplit([0.8,0.2], seed=123)\n",
        "\n",
        "#Creating an Object of  Linear Regression\n",
        "from pyspark.ml.regression import LinearRegression\n",
        "lr=LinearRegression(featuresCol=\"all_features\", labelCol=\"Average Weekly Wages\")\n"
      ],
      "metadata": {
        "id": "Se_-OgTPNnMm"
      },
      "execution_count": 101,
      "outputs": []
    },
    {
      "cell_type": "code",
      "source": [
        "#Creating the pipeline\n",
        "from pyspark.ml import Pipeline\n",
        "lrpipeline=Pipeline(stages=[str_obj,onehot_obj,vec_obj,lr])\n",
        "\n",
        "#Training the Model\n",
        "lrmodel=lrpipeline.fit(training)\n",
        "\n",
        "#Predicting the model\n",
        "lrresults=lrmodel.transform(test)\n",
        "lrresults.show(5)"
      ],
      "metadata": {
        "colab": {
          "base_uri": "https://localhost:8080/"
        },
        "id": "68LmXJEEN0zD",
        "outputId": "c7fc8c68-8fd4-4ef3-d40f-5939f3fc065f"
      },
      "execution_count": 102,
      "outputs": [
        {
          "output_type": "stream",
          "name": "stdout",
          "text": [
            "+--------------------+----------+----+-------+------------------+-----------+----------+--------------------+--------------+--------------------------+-------------+-------------+-------------+-------------------------+--------------------+----------------+-----------------+------------------+------------+------------+-------+----------+----------------+--------------+-------------+------------+------------------+-------------+--------------+---------+-------------+------------------+---------------+------------------+-------------+-------------------+--------------------+------------------+\n",
            "|           Area Type| Area Name|Year|Quarter|         Ownership|NAICS Level|NAICS Code|       Industry Name|Establishments|Average Monthly Employment|1st Month Emp|2nd Month Emp|3rd Month Emp|Total Wages (All Workers)|Average Weekly Wages| Employment_Size|      Wages_Level|Ownership_Category|newArea Type|newArea Name|newYear|newQuarter|newIndustry Name|newNAICS Level|newNAICS Code|newOwnership|newEmployment_Size|newArea Type2| newArea Name2| newYear2|  newQuarter2| newIndustry Name2|newNAICS Level2|    newNAICS Code2|newOwnership2|newEmployment_Size2|        all_features|        prediction|\n",
            "+--------------------+----------+----+-------+------------------+-----------+----------+--------------------+--------------+--------------------------+-------------+-------------+-------------+-------------------------+--------------------+----------------+-----------------+------------------+------------+------------+-------+----------+----------------+--------------+-------------+------------+------------------+-------------+--------------+---------+-------------+------------------+---------------+------------------+-------------+-------------------+--------------------+------------------+\n",
            "|California - Stat...|California|2016|1st Qtr|Federal Government|          1|       102|   Service-Providing|          3362|                    244137|       243495|       244044|       244872|            4.740832806E9|                1494|Large Employment| Low Weekly Wages|        Government|         2.0|         1.0|    3.0|       3.0|            11.0|           6.0|          1.0|         1.0|               0.0|    (2,[],[])|(59,[1],[1.0])|(3,[],[])|(4,[3],[1.0])| (1585,[11],[1.0])|      (6,[],[])|  (2266,[1],[1.0])|(6,[1],[1.0])|      (1,[0],[1.0])|(3935,[3,67,79,16...|1471.6441061909354|\n",
            "|California - Stat...|California|2016|1st Qtr|Federal Government|          2|      1023|Financial Activities|            42|                       595|          601|          594|          591|               2.086209E7|                2696|Large Employment|High Weekly Wages|        Government|         2.0|         1.0|    3.0|       3.0|            86.0|           4.0|         25.0|         1.0|               0.0|    (2,[],[])|(59,[1],[1.0])|(3,[],[])|(4,[3],[1.0])| (1585,[86],[1.0])|  (6,[4],[1.0])| (2266,[25],[1.0])|(6,[1],[1.0])|      (1,[0],[1.0])|(3935,[3,67,154,1...|1828.7589655465067|\n",
            "|California - Stat...|California|2016|1st Qtr|Federal Government|          2|      1029|        Unclassified|             0|                         0|            0|            0|            0|                      0.0|                   0|Small Employment| Low Weekly Wages|        Government|         2.0|         1.0|    3.0|       3.0|           241.0|           4.0|        111.0|         1.0|               1.0|    (2,[],[])|(59,[1],[1.0])|(3,[],[])|(4,[3],[1.0])|(1585,[241],[1.0])|  (6,[4],[1.0])|(2266,[111],[1.0])|(6,[1],[1.0])|          (1,[],[])|(3935,[3,67,309,1...|1104.5485300754442|\n",
            "|California - Stat...|California|2016|1st Qtr|Federal Government|          2|     31-33|       Manufacturing|             1|                         2|            2|            2|            2|                  66975.0|                2576|Small Employment|High Weekly Wages|        Government|         2.0|         1.0|    3.0|       3.0|            45.0|           4.0|         92.0|         1.0|               1.0|    (2,[],[])|(59,[1],[1.0])|(3,[],[])|(4,[3],[1.0])| (1585,[45],[1.0])|  (6,[4],[1.0])| (2266,[92],[1.0])|(6,[1],[1.0])|          (1,[],[])|(3935,[3,67,113,1...|1509.2903708138638|\n",
            "|California - Stat...|California|2016|1st Qtr|Federal Government|          2|        54|Professional and ...|            90|                      6536|         6522|         6527|         6559|             1.38384506E8|                1629|Large Employment| Low Weekly Wages|        Government|         2.0|         1.0|    3.0|       3.0|            10.0|           4.0|         21.0|         1.0|               0.0|    (2,[],[])|(59,[1],[1.0])|(3,[],[])|(4,[3],[1.0])| (1585,[10],[1.0])|  (6,[4],[1.0])| (2266,[21],[1.0])|(6,[1],[1.0])|      (1,[0],[1.0])|(3935,[3,67,78,16...|1813.0418717842242|\n",
            "+--------------------+----------+----+-------+------------------+-----------+----------+--------------------+--------------+--------------------------+-------------+-------------+-------------+-------------------------+--------------------+----------------+-----------------+------------------+------------+------------+-------+----------+----------------+--------------+-------------+------------+------------------+-------------+--------------+---------+-------------+------------------+---------------+------------------+-------------+-------------------+--------------------+------------------+\n",
            "only showing top 5 rows\n",
            "\n"
          ]
        }
      ]
    },
    {
      "cell_type": "code",
      "source": [
        "from pyspark.ml.evaluation import RegressionEvaluator\n",
        "\n",
        "evaluator = RegressionEvaluator(labelCol='Average Weekly Wages', predictionCol='prediction', metricName='r2')\n",
        "\n",
        "# Evaluate the performance using the chosen metric\n",
        "r2 = evaluator.evaluate(lrresults)\n",
        "print(f\"R-squared: {r2}\")\n",
        "\n",
        "evaluator = RegressionEvaluator(labelCol='Average Weekly Wages', predictionCol='prediction', metricName='rmse')\n",
        "\n",
        "# Evaluate the performance using the chosen metric\n",
        "rmse = evaluator.evaluate(lrresults)\n",
        "print(f\"rmse: {rmse}\")"
      ],
      "metadata": {
        "colab": {
          "base_uri": "https://localhost:8080/"
        },
        "id": "yZ1cn-9RN4bV",
        "outputId": "2d9fb3a2-76c9-4ccc-e170-b9f7f34439ce"
      },
      "execution_count": 103,
      "outputs": [
        {
          "output_type": "stream",
          "name": "stdout",
          "text": [
            "R-squared: 0.5312309442025673\n",
            "rmse: 502.16601954940745\n"
          ]
        }
      ]
    },
    {
      "cell_type": "code",
      "source": [
        "lrresults.select('prediction', 'Average Weekly Wages').show(5)\n",
        "\n",
        "# Calculate the average change in wages\n",
        "avg_change = (\n",
        "    lrresults\n",
        "    .groupBy()\n",
        "    .agg({'prediction': 'avg', 'Average Weekly Wages': 'avg'})\n",
        "    .withColumn('AverageChange', col('avg(prediction)') - col('avg(Average Weekly Wages)'))\n",
        "    .select('AverageChange')\n",
        "    .collect()[0]['AverageChange']\n",
        ")\n",
        "\n",
        "print(f\"The average change in wages for the next year is: {avg_change}\")\n"
      ],
      "metadata": {
        "colab": {
          "base_uri": "https://localhost:8080/"
        },
        "id": "Mw4Yk9EaYjjK",
        "outputId": "bb7dfb13-83cb-4aad-8b1c-09f6e2f1540c"
      },
      "execution_count": 104,
      "outputs": [
        {
          "output_type": "stream",
          "name": "stdout",
          "text": [
            "+------------------+--------------------+\n",
            "|        prediction|Average Weekly Wages|\n",
            "+------------------+--------------------+\n",
            "|1471.6441061909354|                1494|\n",
            "|1828.7589655465067|                2696|\n",
            "|1104.5485300754442|                   0|\n",
            "|1509.2903708138638|                2576|\n",
            "|1813.0418717842242|                1629|\n",
            "+------------------+--------------------+\n",
            "only showing top 5 rows\n",
            "\n",
            "The average change in wages for the next year is: -1.1932543604161765\n"
          ]
        }
      ]
    },
    {
      "cell_type": "code",
      "execution_count": 105,
      "metadata": {
        "colab": {
          "base_uri": "https://localhost:8080/"
        },
        "id": "vBtIW8EgR7uP",
        "outputId": "ec7fc46a-28d4-4f73-bc1d-5a6d47a4c190"
      },
      "outputs": [
        {
          "output_type": "stream",
          "name": "stdout",
          "text": [
            "+--------------------+----------+----+-------+------------------+-----------+----------+--------------------+--------------+--------------------------+-------------+-------------+-------------+-------------------------+--------------------+----------------+-----------------+------------------+------------+------------+-------+----------+----------------+--------------+-------------+------------+------------------+-------------+--------------+---------+-------------+------------------+---------------+------------------+-------------+-------------------+--------------------+------------------+\n",
            "|           Area Type| Area Name|Year|Quarter|         Ownership|NAICS Level|NAICS Code|       Industry Name|Establishments|Average Monthly Employment|1st Month Emp|2nd Month Emp|3rd Month Emp|Total Wages (All Workers)|Average Weekly Wages| Employment_Size|      Wages_Level|Ownership_Category|newArea Type|newArea Name|newYear|newQuarter|newIndustry Name|newNAICS Level|newNAICS Code|newOwnership|newEmployment_Size|newArea Type2| newArea Name2| newYear2|  newQuarter2| newIndustry Name2|newNAICS Level2|    newNAICS Code2|newOwnership2|newEmployment_Size2|        all_features|        prediction|\n",
            "+--------------------+----------+----+-------+------------------+-----------+----------+--------------------+--------------+--------------------------+-------------+-------------+-------------+-------------------------+--------------------+----------------+-----------------+------------------+------------+------------+-------+----------+----------------+--------------+-------------+------------+------------------+-------------+--------------+---------+-------------+------------------+---------------+------------------+-------------+-------------------+--------------------+------------------+\n",
            "|California - Stat...|California|2016|1st Qtr|Federal Government|          1|       102|   Service-Providing|          3362|                    244137|       243495|       244044|       244872|            4.740832806E9|                1494|Large Employment| Low Weekly Wages|        Government|         2.0|         1.0|    3.0|       3.0|            11.0|           6.0|          1.0|         1.0|               0.0|    (2,[],[])|(59,[1],[1.0])|(3,[],[])|(4,[3],[1.0])| (1585,[11],[1.0])|      (6,[],[])|  (2266,[1],[1.0])|(6,[1],[1.0])|      (1,[0],[1.0])|(3935,[3,67,79,16...|1221.6874344269652|\n",
            "|California - Stat...|California|2016|1st Qtr|Federal Government|          2|      1023|Financial Activities|            42|                       595|          601|          594|          591|               2.086209E7|                2696|Large Employment|High Weekly Wages|        Government|         2.0|         1.0|    3.0|       3.0|            86.0|           4.0|         25.0|         1.0|               0.0|    (2,[],[])|(59,[1],[1.0])|(3,[],[])|(4,[3],[1.0])| (1585,[86],[1.0])|  (6,[4],[1.0])| (2266,[25],[1.0])|(6,[1],[1.0])|      (1,[0],[1.0])|(3935,[3,67,154,1...|1221.6874344269652|\n",
            "|California - Stat...|California|2016|1st Qtr|Federal Government|          2|      1029|        Unclassified|             0|                         0|            0|            0|            0|                      0.0|                   0|Small Employment| Low Weekly Wages|        Government|         2.0|         1.0|    3.0|       3.0|           241.0|           4.0|        111.0|         1.0|               1.0|    (2,[],[])|(59,[1],[1.0])|(3,[],[])|(4,[3],[1.0])|(1585,[241],[1.0])|  (6,[4],[1.0])|(2266,[111],[1.0])|(6,[1],[1.0])|          (1,[],[])|(3935,[3,67,309,1...|               0.0|\n",
            "|California - Stat...|California|2016|1st Qtr|Federal Government|          2|     31-33|       Manufacturing|             1|                         2|            2|            2|            2|                  66975.0|                2576|Small Employment|High Weekly Wages|        Government|         2.0|         1.0|    3.0|       3.0|            45.0|           4.0|         92.0|         1.0|               1.0|    (2,[],[])|(59,[1],[1.0])|(3,[],[])|(4,[3],[1.0])| (1585,[45],[1.0])|  (6,[4],[1.0])| (2266,[92],[1.0])|(6,[1],[1.0])|          (1,[],[])|(3935,[3,67,113,1...|1820.1976212259835|\n",
            "|California - Stat...|California|2016|1st Qtr|Federal Government|          2|        54|Professional and ...|            90|                      6536|         6522|         6527|         6559|             1.38384506E8|                1629|Large Employment| Low Weekly Wages|        Government|         2.0|         1.0|    3.0|       3.0|            10.0|           4.0|         21.0|         1.0|               0.0|    (2,[],[])|(59,[1],[1.0])|(3,[],[])|(4,[3],[1.0])| (1585,[10],[1.0])|  (6,[4],[1.0])| (2266,[21],[1.0])|(6,[1],[1.0])|      (1,[0],[1.0])|(3935,[3,67,78,16...|1221.6874344269652|\n",
            "+--------------------+----------+----+-------+------------------+-----------+----------+--------------------+--------------+--------------------------+-------------+-------------+-------------+-------------------------+--------------------+----------------+-----------------+------------------+------------+------------+-------+----------+----------------+--------------+-------------+------------+------------------+-------------+--------------+---------+-------------+------------------+---------------+------------------+-------------+-------------------+--------------------+------------------+\n",
            "only showing top 5 rows\n",
            "\n"
          ]
        }
      ],
      "source": [
        "from pyspark.ml.regression import DecisionTreeRegressor\n",
        "# tree=DecisionTreeRegressor(featuresCol=\"all_features\", labelCol=\"Average Weekly Wages\")\n",
        "# stages = indexers + encoders + [vec_obj, tree]\n",
        "# treepipeline=Pipeline(stages=stages)\n",
        "# treemodel=treepipeline.fit(training)\n",
        "# treeresults=treemodel.transform(test)\n",
        "# treeresults.show(5)\n",
        "\n",
        "# Creating an object of Decision Tree Regression\n",
        "dt = DecisionTreeRegressor(featuresCol=\"all_features\", labelCol=\"Average Weekly Wages\")\n",
        "\n",
        "# Creating the pipeline\n",
        "dtpipeline = Pipeline(stages=[str_obj, onehot_obj, vec_obj, dt])\n",
        "\n",
        "# Training the model\n",
        "dtmodel = dtpipeline.fit(training)\n",
        "\n",
        "# Predicting with the model\n",
        "dtresults = dtmodel.transform(test)\n",
        "dtresults.show(5)"
      ]
    },
    {
      "cell_type": "code",
      "source": [
        "from pyspark.ml.evaluation import RegressionEvaluator\n",
        "\n",
        "evaluator = RegressionEvaluator(labelCol='Average Weekly Wages', predictionCol='prediction', metricName='r2')\n",
        "\n",
        "# Evaluate the performance using the chosen metric\n",
        "r2 = evaluator.evaluate(dtresults)\n",
        "print(f\"R-squared: {r2}\")"
      ],
      "metadata": {
        "colab": {
          "base_uri": "https://localhost:8080/"
        },
        "id": "jqCQoGn-PuME",
        "outputId": "6b11ae94-7ec6-4724-e645-149eed5bf299"
      },
      "execution_count": 106,
      "outputs": [
        {
          "output_type": "stream",
          "name": "stdout",
          "text": [
            "R-squared: 0.20198522511352224\n"
          ]
        }
      ]
    },
    {
      "cell_type": "code",
      "source": [
        "from pyspark.ml.evaluation import BinaryClassificationEvaluator\n",
        "treeeval=BinaryClassificationEvaluator(rawPredictionCol=\"prediction\",labelCol=\"Average Weekly Wages\")\n",
        "treeeval.evaluate(dtresults)"
      ],
      "metadata": {
        "colab": {
          "base_uri": "https://localhost:8080/"
        },
        "id": "Xpv9cn8arfbc",
        "outputId": "643ec3b8-f219-436c-80d2-775949da3f0a"
      },
      "execution_count": 107,
      "outputs": [
        {
          "output_type": "execute_result",
          "data": {
            "text/plain": [
              "0.9805926020350433"
            ]
          },
          "metadata": {},
          "execution_count": 107
        }
      ]
    },
    {
      "cell_type": "code",
      "source": [
        "from pyspark.ml.evaluation import RegressionEvaluator\n",
        "evaluator1=RegressionEvaluator(predictionCol=\"prediction\", labelCol=\"Average Weekly Wages\", metricName=\"rmse\")\n",
        "print(\"RMSE:\",evaluator1.evaluate(dtresults))\n",
        "evaluator2=RegressionEvaluator(predictionCol=\"prediction\", labelCol=\"Average Weekly Wages\", metricName=\"mse\")\n",
        "print(\"MSE:\",evaluator2.evaluate(dtresults))\n",
        "evaluator3=RegressionEvaluator(predictionCol=\"prediction\", labelCol=\"Average Weekly Wages\", metricName=\"mae\")\n",
        "print(\"MAE:\",evaluator3.evaluate(dtresults))\n",
        "evaluator4=RegressionEvaluator(predictionCol=\"prediction\", labelCol=\"Average Weekly Wages\", metricName=\"r2\")\n",
        "print(\"R- Squared:\",evaluator4.evaluate(dtresults))"
      ],
      "metadata": {
        "colab": {
          "base_uri": "https://localhost:8080/"
        },
        "id": "jYm_1j8FrhiC",
        "outputId": "02c5e513-4d03-4a81-c112-74691a0053c5"
      },
      "execution_count": 108,
      "outputs": [
        {
          "output_type": "stream",
          "name": "stdout",
          "text": [
            "RMSE: 655.1991419414471\n",
            "MSE: 429285.9156008085\n",
            "MAE: 417.776595229665\n",
            "R- Squared: 0.20198522511352224\n"
          ]
        }
      ]
    },
    {
      "cell_type": "code",
      "source": [
        "def calculate_increase(first_month_emp, third_month_emp):\n",
        "    return third_month_emp - first_month_emp\n",
        "increase_udf = udf(calculate_increase, IntegerType())\n",
        "wages_data = wages_data.withColumn('Increase_in_Employment', increase_udf(col('1st Month Emp'), col('3rd Month Emp')))\n",
        "wages_data.select('1st Month Emp', '3rd Month Emp', 'Increase_in_Employment').show(20)"
      ],
      "metadata": {
        "colab": {
          "base_uri": "https://localhost:8080/"
        },
        "id": "Pcr_LwL2lSPf",
        "outputId": "562a5c5d-10b7-4ee0-9255-bfb3e23421d8"
      },
      "execution_count": 109,
      "outputs": [
        {
          "output_type": "stream",
          "name": "stdout",
          "text": [
            "+-------------+-------------+----------------------+\n",
            "|1st Month Emp|3rd Month Emp|Increase_in_Employment|\n",
            "+-------------+-------------+----------------------+\n",
            "|           10|           10|                     0|\n",
            "|         5193|         5188|                    -5|\n",
            "|           31|           29|                    -2|\n",
            "|           61|           31|                   -30|\n",
            "|           61|           31|                   -30|\n",
            "|          127|           95|                   -32|\n",
            "|         1804|         1762|                   -42|\n",
            "|         2383|         2351|                   -32|\n",
            "|         2991|         3050|                    59|\n",
            "|         2628|         2722|                    94|\n",
            "|          511|          566|                    55|\n",
            "|          511|          566|                    55|\n",
            "|        28601|        29230|                   629|\n",
            "|         1105|         1228|                   123|\n",
            "|            9|           10|                     1|\n",
            "|            9|           10|                     1|\n",
            "|           17|           20|                     3|\n",
            "|          288|          274|                   -14|\n",
            "|           49|           39|                   -10|\n",
            "|          122|          119|                    -3|\n",
            "+-------------+-------------+----------------------+\n",
            "only showing top 20 rows\n",
            "\n"
          ]
        }
      ]
    },
    {
      "cell_type": "code",
      "source": [
        "wages_data.show(2)"
      ],
      "metadata": {
        "colab": {
          "base_uri": "https://localhost:8080/"
        },
        "id": "HWdwE_ftll9E",
        "outputId": "56c8135c-150e-4845-872d-db5e2203db72"
      },
      "execution_count": 110,
      "outputs": [
        {
          "output_type": "stream",
          "name": "stdout",
          "text": [
            "+---------+--------------+----+-------+------------------+-----------+----------+--------------------+--------------+--------------------------+-------------+-------------+-------------+-------------------------+--------------------+----------------+-----------------+------------------+----------------------+\n",
            "|Area Type|     Area Name|Year|Quarter|         Ownership|NAICS Level|NAICS Code|       Industry Name|Establishments|Average Monthly Employment|1st Month Emp|2nd Month Emp|3rd Month Emp|Total Wages (All Workers)|Average Weekly Wages| Employment_Size|      Wages_Level|Ownership_Category|Increase_in_Employment|\n",
            "+---------+--------------+----+-------+------------------+-----------+----------+--------------------+--------------+--------------------------+-------------+-------------+-------------+-------------------------+--------------------+----------------+-----------------+------------------+----------------------+\n",
            "|   County|Alameda County|2016|1st Qtr|Federal Government|          2|      1023|Financial Activities|             1|                        10|           10|           10|           10|                 359690.0|                2767|Small Employment|High Weekly Wages|        Government|                     0|\n",
            "|   County|Alameda County|2016|1st Qtr|Federal Government|          2|      1028|Public Administra...|            72|                      5174|         5193|         5143|         5188|              1.3606897E8|                2023|Large Employment|High Weekly Wages|        Government|                    -5|\n",
            "+---------+--------------+----+-------+------------------+-----------+----------+--------------------+--------------+--------------------------+-------------+-------------+-------------+-------------------------+--------------------+----------------+-----------------+------------------+----------------------+\n",
            "only showing top 2 rows\n",
            "\n"
          ]
        }
      ]
    },
    {
      "cell_type": "code",
      "source": [
        "from pyspark.ml.feature import StringIndexer, OneHotEncoder\n",
        "from pyspark.ml import Pipeline\n",
        "\n",
        "#String indexing for categorical columns\n",
        "from pyspark.ml.feature import StringIndexer\n",
        "str_obj=StringIndexer(inputCols=[\"Area Type\",\"Area Name\",\"Year\",\"Quarter\", \"Industry Name\", \"NAICS Level\",\"NAICS Code\",\"Ownership\", \"Employment_Size\"],\n",
        "                      outputCols=[\"newArea Type\",\"newArea Name\",\"newYear\",\"newQuarter\", \"newIndustry Name\", \"newNAICS Level\", \"newNAICS Code\", \"newOwnership\", \"newEmployment_Size\"])\n",
        "#One hot encoding\n",
        "from pyspark.ml.feature import OneHotEncoder\n",
        "onehot_obj=OneHotEncoder(inputCols=[\"newArea Type\",\"newArea Name\",\"newYear\",\"newQuarter\", \"newIndustry Name\",\"newNAICS Level\", \"newNAICS Code\", \"newOwnership\",\"newEmployment_Size\"],\n",
        "                         outputCols=[\"newArea Type2\",\"newArea Name2\",\"newYear2\",\"newQuarter2\", \"newIndustry Name2\", \"newNAICS Level2\", \"newNAICS Code2\", \"newOwnership2\",\"newEmployment_Size2\"])\n",
        "#Vector Assembler\n",
        "from pyspark.ml.feature import VectorAssembler\n",
        "vec_obj=VectorAssembler(inputCols=[\"newArea Type2\",\"newArea Name2\",\"newYear2\",\"newQuarter2\", \"newIndustry Name2\", \"newNAICS Level2\", \"newNAICS Code2\", \"newOwnership2\",\"newEmployment_Size2\",\n",
        "                                   \"Total Wages (All Workers)\",\"Average Monthly Employment\",\"Establishments\",\"Increase_in_Employment\"],outputCol=\"all_features\")\n",
        "\n",
        "#Splitting the dataset\n",
        "training, test=wages_data.randomSplit([0.8,0.2], seed=123)\n",
        "\n",
        "from pyspark.ml.regression import RandomForestRegressor\n",
        "# Random Forest Classifier\n",
        "rf = RandomForestRegressor(featuresCol='all_features', labelCol=\"Average Weekly Wages\")\n"
      ],
      "metadata": {
        "id": "Q57zzZrAlqdS"
      },
      "execution_count": 111,
      "outputs": []
    },
    {
      "cell_type": "code",
      "source": [
        "#Creating the pipeline\n",
        "from pyspark.ml import Pipeline\n",
        "rfpipeline=Pipeline(stages=[str_obj,onehot_obj,vec_obj,rf])"
      ],
      "metadata": {
        "id": "iQLuXkKml-d4"
      },
      "execution_count": 112,
      "outputs": []
    },
    {
      "cell_type": "code",
      "source": [
        "#Training the Model\n",
        "rfmodel=rfpipeline.fit(training)\n",
        "\n",
        "#Predicting the model\n",
        "rfresults=rfmodel.transform(test)\n",
        "rfresults.show(5)"
      ],
      "metadata": {
        "colab": {
          "base_uri": "https://localhost:8080/"
        },
        "id": "-SSxpBewxm1v",
        "outputId": "63a4ea07-9832-4832-a5af-8a5f9959ce6d"
      },
      "execution_count": 113,
      "outputs": [
        {
          "output_type": "stream",
          "name": "stdout",
          "text": [
            "+--------------------+----------+----+-------+------------------+-----------+----------+--------------------+--------------+--------------------------+-------------+-------------+-------------+-------------------------+--------------------+----------------+-----------------+------------------+----------------------+------------+------------+-------+----------+----------------+--------------+-------------+------------+------------------+-------------+--------------+---------+-------------+------------------+---------------+------------------+-------------+-------------------+--------------------+------------------+\n",
            "|           Area Type| Area Name|Year|Quarter|         Ownership|NAICS Level|NAICS Code|       Industry Name|Establishments|Average Monthly Employment|1st Month Emp|2nd Month Emp|3rd Month Emp|Total Wages (All Workers)|Average Weekly Wages| Employment_Size|      Wages_Level|Ownership_Category|Increase_in_Employment|newArea Type|newArea Name|newYear|newQuarter|newIndustry Name|newNAICS Level|newNAICS Code|newOwnership|newEmployment_Size|newArea Type2| newArea Name2| newYear2|  newQuarter2| newIndustry Name2|newNAICS Level2|    newNAICS Code2|newOwnership2|newEmployment_Size2|        all_features|        prediction|\n",
            "+--------------------+----------+----+-------+------------------+-----------+----------+--------------------+--------------+--------------------------+-------------+-------------+-------------+-------------------------+--------------------+----------------+-----------------+------------------+----------------------+------------+------------+-------+----------+----------------+--------------+-------------+------------+------------------+-------------+--------------+---------+-------------+------------------+---------------+------------------+-------------+-------------------+--------------------+------------------+\n",
            "|California - Stat...|California|2016|1st Qtr|Federal Government|          1|       102|   Service-Providing|          3362|                    244137|       243495|       244044|       244872|            4.740832806E9|                1494|Large Employment| Low Weekly Wages|        Government|                  1377|         2.0|         1.0|    3.0|       3.0|            11.0|           6.0|          1.0|         1.0|               0.0|    (2,[],[])|(59,[1],[1.0])|(3,[],[])|(4,[3],[1.0])| (1585,[11],[1.0])|      (6,[],[])|  (2266,[1],[1.0])|(6,[1],[1.0])|      (1,[0],[1.0])|(3936,[3,67,79,16...|1296.0769323691752|\n",
            "|California - Stat...|California|2016|1st Qtr|Federal Government|          2|      1023|Financial Activities|            42|                       595|          601|          594|          591|               2.086209E7|                2696|Large Employment|High Weekly Wages|        Government|                   -10|         2.0|         1.0|    3.0|       3.0|            86.0|           4.0|         25.0|         1.0|               0.0|    (2,[],[])|(59,[1],[1.0])|(3,[],[])|(4,[3],[1.0])| (1585,[86],[1.0])|  (6,[4],[1.0])| (2266,[25],[1.0])|(6,[1],[1.0])|      (1,[0],[1.0])|(3936,[3,67,154,1...|1327.1210355605924|\n",
            "|California - Stat...|California|2016|1st Qtr|Federal Government|          2|      1029|        Unclassified|             0|                         0|            0|            0|            0|                      0.0|                   0|Small Employment| Low Weekly Wages|        Government|                     0|         2.0|         1.0|    3.0|       3.0|           241.0|           4.0|        111.0|         1.0|               1.0|    (2,[],[])|(59,[1],[1.0])|(3,[],[])|(4,[3],[1.0])|(1585,[241],[1.0])|  (6,[4],[1.0])|(2266,[111],[1.0])|(6,[1],[1.0])|          (1,[],[])|(3936,[3,67,309,1...| 956.5370179285879|\n",
            "|California - Stat...|California|2016|1st Qtr|Federal Government|          2|     31-33|       Manufacturing|             1|                         2|            2|            2|            2|                  66975.0|                2576|Small Employment|High Weekly Wages|        Government|                     0|         2.0|         1.0|    3.0|       3.0|            45.0|           4.0|         92.0|         1.0|               1.0|    (2,[],[])|(59,[1],[1.0])|(3,[],[])|(4,[3],[1.0])| (1585,[45],[1.0])|  (6,[4],[1.0])| (2266,[92],[1.0])|(6,[1],[1.0])|          (1,[],[])|(3936,[3,67,113,1...| 956.5370179285879|\n",
            "|California - Stat...|California|2016|1st Qtr|Federal Government|          2|        54|Professional and ...|            90|                      6536|         6522|         6527|         6559|             1.38384506E8|                1629|Large Employment| Low Weekly Wages|        Government|                    37|         2.0|         1.0|    3.0|       3.0|            10.0|           4.0|         21.0|         1.0|               0.0|    (2,[],[])|(59,[1],[1.0])|(3,[],[])|(4,[3],[1.0])| (1585,[10],[1.0])|  (6,[4],[1.0])| (2266,[21],[1.0])|(6,[1],[1.0])|      (1,[0],[1.0])|(3936,[3,67,78,16...|1297.5440060923622|\n",
            "+--------------------+----------+----+-------+------------------+-----------+----------+--------------------+--------------+--------------------------+-------------+-------------+-------------+-------------------------+--------------------+----------------+-----------------+------------------+----------------------+------------+------------+-------+----------+----------------+--------------+-------------+------------+------------------+-------------+--------------+---------+-------------+------------------+---------------+------------------+-------------+-------------------+--------------------+------------------+\n",
            "only showing top 5 rows\n",
            "\n"
          ]
        }
      ]
    },
    {
      "cell_type": "code",
      "source": [
        "from pyspark.ml.evaluation import RegressionEvaluator\n",
        "evaluator1=RegressionEvaluator(predictionCol=\"prediction\", labelCol=\"Average Weekly Wages\", metricName=\"rmse\")\n",
        "print(\"RMSE:\",evaluator1.evaluate(rfresults))\n",
        "evaluator2=RegressionEvaluator(predictionCol=\"prediction\", labelCol=\"Average Weekly Wages\", metricName=\"mse\")\n",
        "print(\"MSE:\",evaluator2.evaluate(rfresults))\n",
        "evaluator3=RegressionEvaluator(predictionCol=\"prediction\", labelCol=\"Average Weekly Wages\", metricName=\"mae\")\n",
        "print(\"MAE:\",evaluator3.evaluate(rfresults))\n",
        "evaluator4=RegressionEvaluator(predictionCol=\"prediction\", labelCol=\"Average Weekly Wages\", metricName=\"r2\")\n",
        "print(\"R- Squared:\",evaluator4.evaluate(rfresults))"
      ],
      "metadata": {
        "colab": {
          "base_uri": "https://localhost:8080/"
        },
        "id": "reEvXYD7xqqx",
        "outputId": "e9fde30c-aff3-475e-8756-abf57145cab7"
      },
      "execution_count": 114,
      "outputs": [
        {
          "output_type": "stream",
          "name": "stdout",
          "text": [
            "RMSE: 641.892902637405\n",
            "MSE: 412026.4984562731\n",
            "MAE: 408.9188153117857\n",
            "R- Squared: 0.23406936621093455\n"
          ]
        }
      ]
    },
    {
      "cell_type": "code",
      "source": [
        "data=session.read.csv(\"Weekly_Wages.csv\", header=True, inferSchema=True)\n",
        "data.count()"
      ],
      "metadata": {
        "colab": {
          "base_uri": "https://localhost:8080/"
        },
        "id": "wuBh24paH2uO",
        "outputId": "d6909b95-1e7b-4eae-9c52-f8eeff1513b9"
      },
      "execution_count": 115,
      "outputs": [
        {
          "output_type": "execute_result",
          "data": {
            "text/plain": [
              "1009955"
            ]
          },
          "metadata": {},
          "execution_count": 115
        }
      ]
    },
    {
      "cell_type": "code",
      "source": [
        "data.printSchema()"
      ],
      "metadata": {
        "colab": {
          "base_uri": "https://localhost:8080/"
        },
        "id": "_9Hm3cgFH3Ey",
        "outputId": "7c292d62-e45d-4139-c7e5-6612b7bfb0c0"
      },
      "execution_count": 116,
      "outputs": [
        {
          "output_type": "stream",
          "name": "stdout",
          "text": [
            "root\n",
            " |-- Area Type: string (nullable = true)\n",
            " |-- Area Name: string (nullable = true)\n",
            " |-- Year: integer (nullable = true)\n",
            " |-- Quarter: string (nullable = true)\n",
            " |-- Ownership: string (nullable = true)\n",
            " |-- NAICS Level: integer (nullable = true)\n",
            " |-- NAICS Code: string (nullable = true)\n",
            " |-- Industry Name: string (nullable = true)\n",
            " |-- Establishments: integer (nullable = true)\n",
            " |-- Average Monthly Employment: integer (nullable = true)\n",
            " |-- 1st Month Emp: integer (nullable = true)\n",
            " |-- 2nd Month Emp: integer (nullable = true)\n",
            " |-- 3rd Month Emp: integer (nullable = true)\n",
            " |-- Total Wages (All Workers): double (nullable = true)\n",
            " |-- Average Weekly Wages: double (nullable = true)\n",
            "\n"
          ]
        }
      ]
    },
    {
      "cell_type": "code",
      "source": [
        "from pyspark.ml.feature import StringIndexer, OneHotEncoder\n",
        "from pyspark.ml import Pipeline\n",
        "from pyspark.ml.clustering import KMeans\n",
        "\n",
        "# Create a VectorAssembler\n",
        "assembler = VectorAssembler(inputCols=['Average Weekly Wages'],\n",
        "                            outputCol='features')\n",
        "\n",
        "# Create a KMeans model\n",
        "kmeans = KMeans(featuresCol='features', predictionCol='cluster', k=3)  # You can adjust 'k' based on your needs\n",
        "\n",
        "# Create a Pipeline\n",
        "pipeline = Pipeline(stages=[assembler, kmeans])\n",
        "\n",
        "# Fit the pipeline to the data\n",
        "model = pipeline.fit(data)\n",
        "\n",
        "# Make predictions\n",
        "clustered_df = model.transform(data)\n",
        "\n",
        "# You can further analyze the clusters, for example, by calculating the mean values for each cluster\n",
        "cluster_summary = clustered_df.groupBy('cluster').agg({'Total Wages (All Workers)': 'mean',\n",
        "                                                       'Average Weekly Wages': 'mean'})\n",
        "\n",
        "cluster_summary.show()\n"
      ],
      "metadata": {
        "colab": {
          "base_uri": "https://localhost:8080/"
        },
        "id": "F1vS_quTJ4ga",
        "outputId": "f6eae278-a741-4c30-fa6e-a589fa57c795"
      },
      "execution_count": 117,
      "outputs": [
        {
          "output_type": "stream",
          "name": "stdout",
          "text": [
            "+-------+------------------------------+-------------------------+\n",
            "|cluster|avg(Total Wages (All Workers))|avg(Average Weekly Wages)|\n",
            "+-------+------------------------------+-------------------------+\n",
            "|      1|           9.616626739084991E8|       1744.9003052064631|\n",
            "|      2|           1.709175751803287E9|        4771.330241051863|\n",
            "|      0|           7.391907230236971E8|        769.5629224049654|\n",
            "+-------+------------------------------+-------------------------+\n",
            "\n"
          ]
        }
      ]
    },
    {
      "cell_type": "code",
      "source": [
        "from pyspark.sql.functions import when\n",
        "\n",
        "# Assuming 'clustered_df' is your DataFrame with cluster assignments\n",
        "clustered_df = clustered_df.withColumn(\n",
        "    'cluster_name',\n",
        "    when(clustered_df['cluster'] == 0, 'Low Wage Industries')\n",
        "    .when(clustered_df['cluster'] == 1, 'Medium Wage Industries')\n",
        "    .when(clustered_df['cluster'] == 2, 'High Wage Industries')\n",
        "    .otherwise('Unknown Cluster')\n",
        ")\n",
        "\n",
        "# Show the resulting DataFrame with cluster names\n",
        "clustered_df.select('Industry Name', 'Average Weekly Wages', 'cluster', 'cluster_name').show(7)"
      ],
      "metadata": {
        "colab": {
          "base_uri": "https://localhost:8080/"
        },
        "id": "s2IICkJ7S2Fi",
        "outputId": "ecaf5f65-e1d4-4ee2-d163-1ef76d2b3132"
      },
      "execution_count": 118,
      "outputs": [
        {
          "output_type": "stream",
          "name": "stdout",
          "text": [
            "+--------------------+--------------------+-------+--------------------+\n",
            "|       Industry Name|Average Weekly Wages|cluster|        cluster_name|\n",
            "+--------------------+--------------------+-------+--------------------+\n",
            "|Financial Activities|              2767.0|      1|Medium Wage Indus...|\n",
            "|Public Administra...|              2023.0|      1|Medium Wage Indus...|\n",
            "|Vegetable and Mel...|               560.0|      0| Low Wage Industries|\n",
            "|Greenhouse and Nu...|              1107.0|      0| Low Wage Industries|\n",
            "|Nursery and Flori...|              1107.0|      0| Low Wage Industries|\n",
            "|Support Activitie...|               639.0|      0| Low Wage Industries|\n",
            "|New Single-Family...|              1330.0|      1|Medium Wage Indus...|\n",
            "+--------------------+--------------------+-------+--------------------+\n",
            "only showing top 7 rows\n",
            "\n"
          ]
        }
      ]
    },
    {
      "cell_type": "code",
      "source": [
        "# You can further analyze the clusters, for example, by calculating the mean values for each cluster\n",
        "cluster_summary = clustered_df.groupBy('cluster').agg({'Average Weekly Wages': 'max'})\n",
        "\n",
        "cluster_summary.show()"
      ],
      "metadata": {
        "colab": {
          "base_uri": "https://localhost:8080/"
        },
        "id": "nAmAjYNsUaNN",
        "outputId": "51d7b2ed-02ac-4da7-b1d2-f9bae2764d27"
      },
      "execution_count": 119,
      "outputs": [
        {
          "output_type": "stream",
          "name": "stdout",
          "text": [
            "+-------+-------------------------+\n",
            "|cluster|max(Average Weekly Wages)|\n",
            "+-------+-------------------------+\n",
            "|      1|                   3274.0|\n",
            "|      2|                  29502.0|\n",
            "|      0|                   1260.0|\n",
            "+-------+-------------------------+\n",
            "\n"
          ]
        }
      ]
    },
    {
      "cell_type": "markdown",
      "source": [
        "# **Graph**"
      ],
      "metadata": {
        "id": "MazuSLhzwH-w"
      }
    },
    {
      "cell_type": "code",
      "source": [
        "#Installing the necessary libraries\n",
        "!apt-get install openjdk-11-jdk-headless -qq > /dev/null\n",
        "!wget -q https://bitbucket.org/habedi/datasets/raw/b6769c4664e7ff68b001e2f43bc517888cbe3642/spark/spark-3.0.2-bin-hadoop2.7.tgz\n",
        "!tar xf spark-3.0.2-bin-hadoop2.7.tgz\n",
        "!rm -rf spark-3.0.2-bin-hadoop2.7.tgz*\n",
        "!pip -q install findspark pyspark graphframes"
      ],
      "metadata": {
        "id": "i2jBkSWlwLqV"
      },
      "execution_count": 120,
      "outputs": []
    },
    {
      "cell_type": "code",
      "source": [
        "import os\n",
        "os.environ[\"PYSPARK_DRIVER_PYTHON\"] = \"jupyter\"\n",
        "os.environ[\"PYSPARK_DRIVER_PYTHON_OPTS\"] = \"notebook\"\n",
        "os.environ[\"PYSPARK_SUBMIT_ARGS\"] = \"--packages graphframes:graphframes:0.8.1 pyspark-shell\""
      ],
      "metadata": {
        "id": "WWriq8MLwM9y"
      },
      "execution_count": 136,
      "outputs": []
    },
    {
      "cell_type": "code",
      "source": [
        "from graphframes import *\n",
        "from graphframes import GraphFrame\n",
        "from pyspark import *\n",
        "from pyspark.sql import *"
      ],
      "metadata": {
        "id": "WaVGpojiwPOO"
      },
      "execution_count": 137,
      "outputs": []
    },
    {
      "cell_type": "code",
      "source": [
        "vertices = spark.read.option('header', 'true').csv('nodes.csv')\n",
        "edges = spark.read.option('header', 'true').csv('edges.csv')"
      ],
      "metadata": {
        "id": "w8ZmkR9bwR9R"
      },
      "execution_count": 138,
      "outputs": []
    },
    {
      "cell_type": "code",
      "source": [
        "vertices.show(5)\n",
        "edges.show(5)"
      ],
      "metadata": {
        "colab": {
          "base_uri": "https://localhost:8080/"
        },
        "id": "OXhSuiCswUXV",
        "outputId": "2b8e904e-41fa-4893-b2a5-65411a55bc57"
      },
      "execution_count": 139,
      "outputs": [
        {
          "output_type": "stream",
          "name": "stdout",
          "text": [
            "+---+--------------------+\n",
            "| id|                Name|\n",
            "+---+--------------------+\n",
            "|  1|Apparel accessori...|\n",
            "|  2|    Used Car Dealers|\n",
            "|  3|Residential Elect...|\n",
            "|  4|       Wheat Farming|\n",
            "|  5|Printed Circuit A...|\n",
            "+---+--------------------+\n",
            "only showing top 5 rows\n",
            "\n",
            "+---+---+--------+\n",
            "|src|dst|relation|\n",
            "+---+---+--------+\n",
            "|  1| 50|Owned By|\n",
            "|  2| 50|Owned By|\n",
            "|  3| 50|Owned By|\n",
            "|  4| 50|Owned By|\n",
            "|  5| 50|Owned By|\n",
            "+---+---+--------+\n",
            "only showing top 5 rows\n",
            "\n"
          ]
        }
      ]
    },
    {
      "cell_type": "code",
      "source": [
        "mygraph = GraphFrame(vertices, edges)"
      ],
      "metadata": {
        "colab": {
          "base_uri": "https://localhost:8080/",
          "height": 564
        },
        "id": "5b9Se2_0wV-z",
        "outputId": "5252abc1-8b6a-4e8a-ba84-e1d584118851"
      },
      "execution_count": 140,
      "outputs": [
        {
          "output_type": "error",
          "ename": "Py4JJavaError",
          "evalue": "An error occurred while calling o3334.loadClass.\n: java.lang.ClassNotFoundException: org.graphframes.GraphFramePythonAPI\n\tat java.base/java.net.URLClassLoader.findClass(URLClassLoader.java:476)\n\tat java.base/java.lang.ClassLoader.loadClass(ClassLoader.java:594)\n\tat java.base/java.lang.ClassLoader.loadClass(ClassLoader.java:527)\n\tat java.base/jdk.internal.reflect.NativeMethodAccessorImpl.invoke0(Native Method)\n\tat java.base/jdk.internal.reflect.NativeMethodAccessorImpl.invoke(NativeMethodAccessorImpl.java:62)\n\tat java.base/jdk.internal.reflect.DelegatingMethodAccessorImpl.invoke(DelegatingMethodAccessorImpl.java:43)\n\tat java.base/java.lang.reflect.Method.invoke(Method.java:566)\n\tat py4j.reflection.MethodInvoker.invoke(MethodInvoker.java:244)\n\tat py4j.reflection.ReflectionEngine.invoke(ReflectionEngine.java:374)\n\tat py4j.Gateway.invoke(Gateway.java:282)\n\tat py4j.commands.AbstractCommand.invokeMethod(AbstractCommand.java:132)\n\tat py4j.commands.CallCommand.execute(CallCommand.java:79)\n\tat py4j.ClientServerConnection.waitForCommands(ClientServerConnection.java:182)\n\tat py4j.ClientServerConnection.run(ClientServerConnection.java:106)\n\tat java.base/java.lang.Thread.run(Thread.java:829)\n",
          "traceback": [
            "\u001b[0;31m---------------------------------------------------------------------------\u001b[0m",
            "\u001b[0;31mPy4JJavaError\u001b[0m                             Traceback (most recent call last)",
            "\u001b[0;32m<ipython-input-140-af195645b9ad>\u001b[0m in \u001b[0;36m<cell line: 1>\u001b[0;34m()\u001b[0m\n\u001b[0;32m----> 1\u001b[0;31m \u001b[0mmygraph\u001b[0m \u001b[0;34m=\u001b[0m \u001b[0mGraphFrame\u001b[0m\u001b[0;34m(\u001b[0m\u001b[0mvertices\u001b[0m\u001b[0;34m,\u001b[0m \u001b[0medges\u001b[0m\u001b[0;34m)\u001b[0m\u001b[0;34m\u001b[0m\u001b[0;34m\u001b[0m\u001b[0m\n\u001b[0m",
            "\u001b[0;32m/usr/local/lib/python3.10/dist-packages/graphframes/graphframe.py\u001b[0m in \u001b[0;36m__init__\u001b[0;34m(self, v, e)\u001b[0m\n\u001b[1;32m     63\u001b[0m         \u001b[0mself\u001b[0m\u001b[0;34m.\u001b[0m\u001b[0m_sqlContext\u001b[0m \u001b[0;34m=\u001b[0m \u001b[0mv\u001b[0m\u001b[0;34m.\u001b[0m\u001b[0msql_ctx\u001b[0m\u001b[0;34m\u001b[0m\u001b[0;34m\u001b[0m\u001b[0m\n\u001b[1;32m     64\u001b[0m         \u001b[0mself\u001b[0m\u001b[0;34m.\u001b[0m\u001b[0m_sc\u001b[0m \u001b[0;34m=\u001b[0m \u001b[0mself\u001b[0m\u001b[0;34m.\u001b[0m\u001b[0m_sqlContext\u001b[0m\u001b[0;34m.\u001b[0m\u001b[0m_sc\u001b[0m\u001b[0;34m\u001b[0m\u001b[0;34m\u001b[0m\u001b[0m\n\u001b[0;32m---> 65\u001b[0;31m         \u001b[0mself\u001b[0m\u001b[0;34m.\u001b[0m\u001b[0m_jvm_gf_api\u001b[0m \u001b[0;34m=\u001b[0m \u001b[0m_java_api\u001b[0m\u001b[0;34m(\u001b[0m\u001b[0mself\u001b[0m\u001b[0;34m.\u001b[0m\u001b[0m_sc\u001b[0m\u001b[0;34m)\u001b[0m\u001b[0;34m\u001b[0m\u001b[0;34m\u001b[0m\u001b[0m\n\u001b[0m\u001b[1;32m     66\u001b[0m \u001b[0;34m\u001b[0m\u001b[0m\n\u001b[1;32m     67\u001b[0m         \u001b[0mself\u001b[0m\u001b[0;34m.\u001b[0m\u001b[0mID\u001b[0m \u001b[0;34m=\u001b[0m \u001b[0mself\u001b[0m\u001b[0;34m.\u001b[0m\u001b[0m_jvm_gf_api\u001b[0m\u001b[0;34m.\u001b[0m\u001b[0mID\u001b[0m\u001b[0;34m(\u001b[0m\u001b[0;34m)\u001b[0m\u001b[0;34m\u001b[0m\u001b[0;34m\u001b[0m\u001b[0m\n",
            "\u001b[0;32m/usr/local/lib/python3.10/dist-packages/graphframes/graphframe.py\u001b[0m in \u001b[0;36m_java_api\u001b[0;34m(jsc)\u001b[0m\n\u001b[1;32m     36\u001b[0m \u001b[0;32mdef\u001b[0m \u001b[0m_java_api\u001b[0m\u001b[0;34m(\u001b[0m\u001b[0mjsc\u001b[0m\u001b[0;34m)\u001b[0m\u001b[0;34m:\u001b[0m\u001b[0;34m\u001b[0m\u001b[0;34m\u001b[0m\u001b[0m\n\u001b[1;32m     37\u001b[0m     \u001b[0mjavaClassName\u001b[0m \u001b[0;34m=\u001b[0m \u001b[0;34m\"org.graphframes.GraphFramePythonAPI\"\u001b[0m\u001b[0;34m\u001b[0m\u001b[0;34m\u001b[0m\u001b[0m\n\u001b[0;32m---> 38\u001b[0;31m     \u001b[0;32mreturn\u001b[0m \u001b[0mjsc\u001b[0m\u001b[0;34m.\u001b[0m\u001b[0m_jvm\u001b[0m\u001b[0;34m.\u001b[0m\u001b[0mThread\u001b[0m\u001b[0;34m.\u001b[0m\u001b[0mcurrentThread\u001b[0m\u001b[0;34m(\u001b[0m\u001b[0;34m)\u001b[0m\u001b[0;34m.\u001b[0m\u001b[0mgetContextClassLoader\u001b[0m\u001b[0;34m(\u001b[0m\u001b[0;34m)\u001b[0m\u001b[0;34m.\u001b[0m\u001b[0mloadClass\u001b[0m\u001b[0;34m(\u001b[0m\u001b[0mjavaClassName\u001b[0m\u001b[0;34m)\u001b[0m\u001b[0;31m \u001b[0m\u001b[0;31m\\\u001b[0m\u001b[0;34m\u001b[0m\u001b[0;34m\u001b[0m\u001b[0m\n\u001b[0m\u001b[1;32m     39\u001b[0m             \u001b[0;34m.\u001b[0m\u001b[0mnewInstance\u001b[0m\u001b[0;34m(\u001b[0m\u001b[0;34m)\u001b[0m\u001b[0;34m\u001b[0m\u001b[0;34m\u001b[0m\u001b[0m\n\u001b[1;32m     40\u001b[0m \u001b[0;34m\u001b[0m\u001b[0m\n",
            "\u001b[0;32m/usr/local/lib/python3.10/dist-packages/py4j/java_gateway.py\u001b[0m in \u001b[0;36m__call__\u001b[0;34m(self, *args)\u001b[0m\n\u001b[1;32m   1320\u001b[0m \u001b[0;34m\u001b[0m\u001b[0m\n\u001b[1;32m   1321\u001b[0m         \u001b[0manswer\u001b[0m \u001b[0;34m=\u001b[0m \u001b[0mself\u001b[0m\u001b[0;34m.\u001b[0m\u001b[0mgateway_client\u001b[0m\u001b[0;34m.\u001b[0m\u001b[0msend_command\u001b[0m\u001b[0;34m(\u001b[0m\u001b[0mcommand\u001b[0m\u001b[0;34m)\u001b[0m\u001b[0;34m\u001b[0m\u001b[0;34m\u001b[0m\u001b[0m\n\u001b[0;32m-> 1322\u001b[0;31m         return_value = get_return_value(\n\u001b[0m\u001b[1;32m   1323\u001b[0m             answer, self.gateway_client, self.target_id, self.name)\n\u001b[1;32m   1324\u001b[0m \u001b[0;34m\u001b[0m\u001b[0m\n",
            "\u001b[0;32m/usr/local/lib/python3.10/dist-packages/pyspark/errors/exceptions/captured.py\u001b[0m in \u001b[0;36mdeco\u001b[0;34m(*a, **kw)\u001b[0m\n\u001b[1;32m    177\u001b[0m     \u001b[0;32mdef\u001b[0m \u001b[0mdeco\u001b[0m\u001b[0;34m(\u001b[0m\u001b[0;34m*\u001b[0m\u001b[0ma\u001b[0m\u001b[0;34m:\u001b[0m \u001b[0mAny\u001b[0m\u001b[0;34m,\u001b[0m \u001b[0;34m**\u001b[0m\u001b[0mkw\u001b[0m\u001b[0;34m:\u001b[0m \u001b[0mAny\u001b[0m\u001b[0;34m)\u001b[0m \u001b[0;34m->\u001b[0m \u001b[0mAny\u001b[0m\u001b[0;34m:\u001b[0m\u001b[0;34m\u001b[0m\u001b[0;34m\u001b[0m\u001b[0m\n\u001b[1;32m    178\u001b[0m         \u001b[0;32mtry\u001b[0m\u001b[0;34m:\u001b[0m\u001b[0;34m\u001b[0m\u001b[0;34m\u001b[0m\u001b[0m\n\u001b[0;32m--> 179\u001b[0;31m             \u001b[0;32mreturn\u001b[0m \u001b[0mf\u001b[0m\u001b[0;34m(\u001b[0m\u001b[0;34m*\u001b[0m\u001b[0ma\u001b[0m\u001b[0;34m,\u001b[0m \u001b[0;34m**\u001b[0m\u001b[0mkw\u001b[0m\u001b[0;34m)\u001b[0m\u001b[0;34m\u001b[0m\u001b[0;34m\u001b[0m\u001b[0m\n\u001b[0m\u001b[1;32m    180\u001b[0m         \u001b[0;32mexcept\u001b[0m \u001b[0mPy4JJavaError\u001b[0m \u001b[0;32mas\u001b[0m \u001b[0me\u001b[0m\u001b[0;34m:\u001b[0m\u001b[0;34m\u001b[0m\u001b[0;34m\u001b[0m\u001b[0m\n\u001b[1;32m    181\u001b[0m             \u001b[0mconverted\u001b[0m \u001b[0;34m=\u001b[0m \u001b[0mconvert_exception\u001b[0m\u001b[0;34m(\u001b[0m\u001b[0me\u001b[0m\u001b[0;34m.\u001b[0m\u001b[0mjava_exception\u001b[0m\u001b[0;34m)\u001b[0m\u001b[0;34m\u001b[0m\u001b[0;34m\u001b[0m\u001b[0m\n",
            "\u001b[0;32m/usr/local/lib/python3.10/dist-packages/py4j/protocol.py\u001b[0m in \u001b[0;36mget_return_value\u001b[0;34m(answer, gateway_client, target_id, name)\u001b[0m\n\u001b[1;32m    324\u001b[0m             \u001b[0mvalue\u001b[0m \u001b[0;34m=\u001b[0m \u001b[0mOUTPUT_CONVERTER\u001b[0m\u001b[0;34m[\u001b[0m\u001b[0mtype\u001b[0m\u001b[0;34m]\u001b[0m\u001b[0;34m(\u001b[0m\u001b[0manswer\u001b[0m\u001b[0;34m[\u001b[0m\u001b[0;36m2\u001b[0m\u001b[0;34m:\u001b[0m\u001b[0;34m]\u001b[0m\u001b[0;34m,\u001b[0m \u001b[0mgateway_client\u001b[0m\u001b[0;34m)\u001b[0m\u001b[0;34m\u001b[0m\u001b[0;34m\u001b[0m\u001b[0m\n\u001b[1;32m    325\u001b[0m             \u001b[0;32mif\u001b[0m \u001b[0manswer\u001b[0m\u001b[0;34m[\u001b[0m\u001b[0;36m1\u001b[0m\u001b[0;34m]\u001b[0m \u001b[0;34m==\u001b[0m \u001b[0mREFERENCE_TYPE\u001b[0m\u001b[0;34m:\u001b[0m\u001b[0;34m\u001b[0m\u001b[0;34m\u001b[0m\u001b[0m\n\u001b[0;32m--> 326\u001b[0;31m                 raise Py4JJavaError(\n\u001b[0m\u001b[1;32m    327\u001b[0m                     \u001b[0;34m\"An error occurred while calling {0}{1}{2}.\\n\"\u001b[0m\u001b[0;34m.\u001b[0m\u001b[0;34m\u001b[0m\u001b[0;34m\u001b[0m\u001b[0m\n\u001b[1;32m    328\u001b[0m                     format(target_id, \".\", name), value)\n",
            "\u001b[0;31mPy4JJavaError\u001b[0m: An error occurred while calling o3334.loadClass.\n: java.lang.ClassNotFoundException: org.graphframes.GraphFramePythonAPI\n\tat java.base/java.net.URLClassLoader.findClass(URLClassLoader.java:476)\n\tat java.base/java.lang.ClassLoader.loadClass(ClassLoader.java:594)\n\tat java.base/java.lang.ClassLoader.loadClass(ClassLoader.java:527)\n\tat java.base/jdk.internal.reflect.NativeMethodAccessorImpl.invoke0(Native Method)\n\tat java.base/jdk.internal.reflect.NativeMethodAccessorImpl.invoke(NativeMethodAccessorImpl.java:62)\n\tat java.base/jdk.internal.reflect.DelegatingMethodAccessorImpl.invoke(DelegatingMethodAccessorImpl.java:43)\n\tat java.base/java.lang.reflect.Method.invoke(Method.java:566)\n\tat py4j.reflection.MethodInvoker.invoke(MethodInvoker.java:244)\n\tat py4j.reflection.ReflectionEngine.invoke(ReflectionEngine.java:374)\n\tat py4j.Gateway.invoke(Gateway.java:282)\n\tat py4j.commands.AbstractCommand.invokeMethod(AbstractCommand.java:132)\n\tat py4j.commands.CallCommand.execute(CallCommand.java:79)\n\tat py4j.ClientServerConnection.waitForCommands(ClientServerConnection.java:182)\n\tat py4j.ClientServerConnection.run(ClientServerConnection.java:106)\n\tat java.base/java.lang.Thread.run(Thread.java:829)\n"
          ]
        }
      ]
    },
    {
      "cell_type": "code",
      "source": [
        "import networkx as nx\n",
        "import matplotlib.pyplot as plt\n",
        "# the function will plot the source and destination nodes and connect them by meand of undirected line\n",
        "def plot_undirected_graph(edge_list):\n",
        "    plt.figure(figsize=(9,9))\n",
        "    gplot=nx.Graph()\n",
        "    for row in edge_list.select(\"src\", \"dst\").take(500):\n",
        "        gplot.add_edge(row[\"src\"], row[\"dst\"])\n",
        "    nx.draw(gplot,with_labels=True, node_size=200)\n",
        "plot_undirected_graph(mygraph.edges)"
      ],
      "metadata": {
        "id": "Enlp8ryCwXmu"
      },
      "execution_count": null,
      "outputs": []
    },
    {
      "cell_type": "code",
      "source": [
        "result4=mygraph.filterEdges(\"relation='Owned By'\");\n",
        "result4.vertices.show()\n",
        "result4.edges.show()"
      ],
      "metadata": {
        "id": "e6uyLVzxwd24"
      },
      "execution_count": null,
      "outputs": []
    },
    {
      "cell_type": "code",
      "source": [
        "from pyspark.sql.functions import desc\n",
        "sorted_vertices = x.vertices.orderBy(desc(\"pagerank\"))\n",
        "sorted_vertices.show()"
      ],
      "metadata": {
        "id": "riSz-paEwfvv"
      },
      "execution_count": null,
      "outputs": []
    },
    {
      "cell_type": "code",
      "source": [
        "mygraph.triangleCount().show()"
      ],
      "metadata": {
        "id": "-RBZicXzwh2P"
      },
      "execution_count": null,
      "outputs": []
    }
  ],
  "metadata": {
    "colab": {
      "provenance": []
    },
    "kernelspec": {
      "display_name": "Python 3",
      "name": "python3"
    },
    "language_info": {
      "name": "python"
    }
  },
  "nbformat": 4,
  "nbformat_minor": 0
}